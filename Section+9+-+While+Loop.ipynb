{
 "cells": [
  {
   "cell_type": "markdown",
   "metadata": {},
   "source": [
    "# 1- QUESTION:\n",
    "Using a while loop, write a program that prints out the integers 2, 5, 8, 11, 14, 17, and 20 in that order,  all on the same line."
   ]
  },
  {
   "cell_type": "markdown",
   "metadata": {},
   "source": [
    "With the while loop we can execute a set of statements as long as a condition is true.\n",
    "\n",
    "In the while loop, test expression is checked first. The body of the loop is entered only if the test_expression evaluates to True. After one iteration, the test expression is checked again. This process continues until the test_expression evaluates to False.\n",
    "\n",
    "In Python, the body of the while loop is determined through indentation.\n",
    "\n",
    "The body starts with indentation and the first unindented line marks the end.\n",
    "\n",
    "Python interprets any non-zero value as True. None and 0 are interpreted as False."
   ]
  },
  {
   "cell_type": "code",
   "execution_count": null,
   "metadata": {},
   "outputs": [],
   "source": [
    "#1 Print 2, 5, 8, 11, 14, 17, 20 with a while loop.\n",
    "i = 2\n",
    "print(i, end=' ')\n",
    "while i < 20:\n",
    "    i += 3\n",
    "    print(i, end=' ')\n",
    "print()"
   ]
  },
  {
   "cell_type": "markdown",
   "metadata": {},
   "source": [
    "# 2- QUESTION:\n",
    "Using a while loop, write a program that counts down from 100, stopping at 1, printing all the numbers\n",
    "on the same line.\n",
    "\n"
   ]
  },
  {
   "cell_type": "code",
   "execution_count": null,
   "metadata": {},
   "outputs": [],
   "source": [
    "#2 Print 100, 99, 98, ... 1 with a while loop.\n",
    "i = 100\n",
    "print(i, end=' ')\n",
    "while i > 1:\n",
    "    i -= 1\n",
    "    print(i, end=' ')\n",
    "print()"
   ]
  },
  {
   "cell_type": "markdown",
   "metadata": {},
   "source": [
    "# 3- QUESTION:\n",
    "Write a program that repeatedly asks a user to enter positive integers. The user stops the program by\n",
    "entering a negative. After this, print the sum of all the numbers the user enters, excluding the final\n",
    "negative."
   ]
  },
  {
   "cell_type": "code",
   "execution_count": null,
   "metadata": {},
   "outputs": [],
   "source": [
    "#3 User enters numbers until a negative.  Then sum is printed, excluding negative.\n",
    "num = 0\n",
    "total = 0\n",
    "while num >= 0:\n",
    "    num = eval(input('Enter a number (negative to stop): '))\n",
    "    if num >= 0:\n",
    "        total += num\n",
    "print(total)"
   ]
  },
  {
   "cell_type": "markdown",
   "metadata": {},
   "source": [
    "# 4- QUESTION:\n",
    "Write a program that asks the user to enter numbers from 1 to 10. The program should stop when the user enters a 5. After the loop is done, the program should print out a count of how many numbers were entered and print out yes or no, depending on whether the user entered any numbers less than 3."
   ]
  },
  {
   "cell_type": "code",
   "execution_count": null,
   "metadata": {},
   "outputs": [],
   "source": [
    "#User enters numbers from 1 to 10, stopping with a 5.  Print out how many numbers and whether a 3 was entered.\n",
    "num = 0\n",
    "count = 0\n",
    "flag = False\n",
    "while num != 5:\n",
    "    num = eval(input('Enter a number (5 to stop): '))\n",
    "    count += 1\n",
    "    if num < 3:\n",
    "        flag = True\n",
    "print(count)\n",
    "if flag:\n",
    "    print('Yes')\n",
    "else:\n",
    "    print('No')"
   ]
  },
  {
   "cell_type": "markdown",
   "metadata": {},
   "source": [
    "# 5- QUESTION:\n",
    "The Collatz conjecture is a well-known math problem. Start with any number x. If it is even, divide it by 2. If it is odd, compute 3x + 1. Then repeat the process with the next number, the one after that, etc. Collatz conjectured that no matter where you start, you will always eventually get to the number\n",
    "\n",
    "\n",
    "1. For instance, starting with x = 3, since 3 is odd, we compute 3x + 1 to get 10. Then since 10 is even, we divide by 2 to get 5. Then since 5 is odd, we do 3x + 1 to get 16. Then since 16 is even, we divide by 2 to get 8. Continuing, we then get 4, 2, and 1, at which point the sequence starts to repeat.\n",
    "\n",
    "Write a program that asks the user for a starting value and then prints out the all the terms of the Collatz sequence, stopping when the a 1 is reached."
   ]
  },
  {
   "cell_type": "code",
   "execution_count": null,
   "metadata": {},
   "outputs": [],
   "source": [
    "#Ask for a number, print Collatz sequence starting at that number until 1.\n",
    "#Start with any num x.\n",
    "# if it is even, divide by 2\n",
    "# if it is odd, compute 3x+1\n",
    "# repeat next number\n",
    "# you will always eventually get to the number 1\n",
    "num = eval(input('Enter a positive integer: '))\n",
    "print(num, end=' ')\n",
    "while num != 1:\n",
    "    if num % 2 == 0:\n",
    "        num = num // 2\n",
    "    else:\n",
    "        num = 3*num + 1\n",
    "    print(num, end=' ')\n",
    "print()"
   ]
  },
  {
   "cell_type": "markdown",
   "metadata": {},
   "source": [
    "# 6- QUESTION:\n",
    "Write a program that builds up a list, by adding random numbers from 1 to 10 to the list, stopping\n",
    "when the fifth 10 is generated. Print out the list at the end."
   ]
  },
  {
   "cell_type": "code",
   "execution_count": null,
   "metadata": {},
   "outputs": [],
   "source": [
    "# Create list of random numbers from 1 to 10, stopping when fifth 10 is generated.\n",
    "from random import randint\n",
    "\n",
    "L = []\n",
    "count = 0\n",
    "while count < 5:\n",
    "    r = randint(1, 10)\n",
    "    if r == 10:\n",
    "        count += 1\n",
    "    L.append(r)\n",
    "print(L)\n"
   ]
  },
  {
   "cell_type": "markdown",
   "metadata": {},
   "source": [
    "# 7- QUESTION:\n",
    "Write the following game. The player is given a random multiplication problem to answer. Make it so\n",
    "that the random numbers range from 2 to 99. For each problem, the player gets one guess. If they get\n",
    "it right, the number of points added to their score is the sum of the two numbers in the problem (e.g.,\n",
    "if the problem is 7 x 12, they would earn 19 points). If they get it wrong, their score doesn’t change,\n",
    "but they lose a guess. After each problem, print out whether they get it right and print out their score\n",
    "and how many guesses are remaining. The player starts with three guesses. The game ends when the\n",
    "player either wins by reaching a score of 200 or loses by running out of guesses."
   ]
  },
  {
   "cell_type": "code",
   "execution_count": null,
   "metadata": {},
   "outputs": [],
   "source": [
    "# Multiplication game.\n",
    "# Step 1: reach score 200 or loses by running out guesses - 3 guesses\n",
    "# Step 2: random numbers range from 2 to 99 (x,y)\n",
    "# Step 3: the player guess-\n",
    "    # if it is right, the number of points added to their score is the sum of the two numbers in the problem\n",
    "    # if it is wrong, score does not change, the lose a guess\n",
    "# Step 4: After each problem, print out whether they get it right\n",
    "# Step 5: after each problem, print out their score and how many guesses are remaining.\n",
    "from random import randint\n",
    "\n",
    "guesses = 3\n",
    "score = 0\n",
    "while guesses > 0 and score < 200:\n",
    "    x = randint(2, 99)\n",
    "    y = randint(2, 99)\n",
    "    print(x, 'x', y)\n",
    "    ans = eval(input('Your guess: '))\n",
    "    if ans == x * y:\n",
    "        score += x + y\n",
    "        print('Right!', end=' ')\n",
    "    else:\n",
    "        guesses -= 1\n",
    "        print('Wrong.', end=' ')\n",
    "    print('Score:', score, '  Guesses left:', guesses)\n",
    "if guesses == 0:\n",
    "    print('You lose.')\n",
    "else:\n",
    "    print('You win!')\n"
   ]
  },
  {
   "cell_type": "markdown",
   "metadata": {},
   "source": [
    "# 8- QUESTION:\n",
    "Write a program that asks the user to enter a string that consists of some letters and some non-letters.\n",
    "Then randomly remove the non-letters one at a time from the string until there are no more letters.\n",
    "After each letter is removed, print out the string."
   ]
  },
  {
   "cell_type": "code",
   "execution_count": null,
   "metadata": {},
   "outputs": [],
   "source": [
    "#Get a string of letters and non-letters, randomly remove non-letters one at a time until there are no more\n",
    "from random import choice\n",
    "\n",
    "s = input('Enter a string with some letters and some non-letters: ')\n",
    "while True:\n",
    "    Indices = []\n",
    "    for i in range(len(s)):\n",
    "        if not s[i].isalpha():\n",
    "            Indices.append(i)\n",
    "    if len(Indices) == 0:\n",
    "        break\n",
    "    j = choice(Indices)\n",
    "    s = s[:j] + s[j+1:]\n",
    "    print(s)\n"
   ]
  },
  {
   "cell_type": "markdown",
   "metadata": {},
   "source": [
    "# 9- QUESTION:\n",
    "Here is an interesting question: Suppose a country has a policy where couples must continue having\n",
    "kids until they have a boy, at which point they can have no more kids. What will the long term\n",
    "percentage of boys and girls come out to? Ignore the possibility of twins and other complications.\n",
    "Find an approximate answer to this question by simulating 10,000 couples having kids according to\n",
    "this rule. It should count the total number of boys and girls born and return the percentage of girls."
   ]
  },
  {
   "cell_type": "code",
   "execution_count": null,
   "metadata": {},
   "outputs": [],
   "source": [
    "\n",
    "#Birth policy problem.\n",
    "\n",
    "# couples must continue having kids until they have a boy(all couples should have boy)\n",
    "# percentage of boys and girls come out to?\n",
    "# simulating 10,000 couples\n",
    "# count the total number of boys and girls born and return the percentage of girls.\n",
    "\n",
    "from random import choice\n",
    "\n",
    "boys = 0\n",
    "girls = 0\n",
    "for i in range(10000):\n",
    "    child = choice('BG')\n",
    "    while child == 'G':\n",
    "        girls += 1\n",
    "        child = choice('BG')\n",
    "    boys += 1\n",
    "print('Boys:', 100*boys/(boys+girls), '  Girls:', 100*girls/(boys+girls))"
   ]
  },
  {
   "cell_type": "markdown",
   "metadata": {},
   "source": [
    "# 10- QUESTION\n",
    "Write a program that creates and prints a list of 50 random numbers from 1 to 5 with the property that\n",
    "the same number never appears twice or more in a row. [Hint: One way to do this is to use a while\n",
    "loop to make sure the current number being generated is not equal to the previous number.]"
   ]
  },
  {
   "cell_type": "code",
   "execution_count": null,
   "metadata": {},
   "outputs": [],
   "source": [
    "\n",
    "\n",
    "#Create a list of 50 random numbers from 1 to 5 with no number appearing twice in a row.\n",
    "L=[randint(1,5)]\n",
    "for i in range(49):\n",
    "    r = randint(1,5)\n",
    "    while r==L[i]:\n",
    "        r=randint(1,5)\n",
    "    L.append(r)\n",
    "print(L)"
   ]
  },
  {
   "cell_type": "markdown",
   "metadata": {},
   "source": [
    "# 11- QUESTION:\n",
    "People often try to collect all the items from a set. Suppose we have a set of 100 items that we are\n",
    "trying to collect. The items are sold in packages of 20 items, with all 20 items in each package being\n",
    "different. Write a program that simulates how long it will take until we have collected all 100 items.\n",
    "Do this by randomly generating packages of 20 and adding them to a collection until that collection\n",
    "has all 100 different items."
   ]
  },
  {
   "cell_type": "code",
   "execution_count": null,
   "metadata": {},
   "outputs": [],
   "source": [
    "# Collecting all the items of a set.\n",
    "from random import sample\n",
    "T = [i for i in range(1,101)]\n",
    "C = []\n",
    "n = 0\n",
    "while len(C) != 100:\n",
    "    P = sample(T, 20)\n",
    "    for p in P:\n",
    "        if p not in C:\n",
    "            C.append(p)\n",
    "    n += 1\n",
    "print(n)"
   ]
  },
  {
   "cell_type": "markdown",
   "metadata": {},
   "source": [
    "# 12- QUESTION:\n",
    "Write a program that computes the net amount of a bank account based a transaction log from console input. The transaction log format is shown as following:\n",
    "\n",
    "D 100\n",
    "W 200\n",
    "D means deposit while W means withdrawal.\n",
    "Suppose the following input is supplied to the program:\n",
    "\n",
    "D 300\n",
    "D 300\n",
    "W 200\n",
    "D 100\n",
    "Then, the output should be:\n",
    "\n",
    "500\n",
    "When input enter a space, then it breaks the loop.\n",
    "Hints:\n",
    "In case of input data being supplied to the question, it should be assumed to be a console input.\n",
    "\n"
   ]
  },
  {
   "cell_type": "code",
   "execution_count": null,
   "metadata": {},
   "outputs": [],
   "source": [
    "total = 0\n",
    "while True:\n",
    "    s = input().split()\n",
    "    if not s:            # break if the string is empty\n",
    "        break\n",
    "    cm,num = map(str,s)    # two inputs are distributed in cm and num in string data type\n",
    "\n",
    "    if cm=='D':\n",
    "        total+=int(num)\n",
    "    if cm=='W':\n",
    "        total-=int(num)\n",
    "\n",
    "print(total)\n",
    "\n",
    "# map() function returns a map object(which is an iterator) \n",
    "# of the results after applying the given function to each item of a given iterable (list, tuple etc.)"
   ]
  },
  {
   "cell_type": "markdown",
   "metadata": {},
   "source": [
    "# 13- QUESTION:\n",
    "A robot moves in a plane starting from the original point (0,0). The robot can move toward UP, DOWN, LEFT and RIGHT with a given steps. The trace of robot movement is shown as the following:\n",
    "\n",
    "UP 5\n",
    "DOWN 3\n",
    "LEFT 3\n",
    "RIGHT 2\n",
    "The numbers after the direction are steps. Please write a program to compute the distance from current position after a sequence of movement and original point. If the distance is a float, then just print the nearest integer. Example: If the following tuples are given as input to the program:\n",
    "\n",
    "UP 5\n",
    "DOWN 3\n",
    "LEFT 3\n",
    "RIGHT 2\n",
    "Then, the output of the program should be:\n",
    "\n",
    "2\n",
    "Hints:\n",
    "In case of input data being supplied to the question, it should be assumed to be a console input.Here distance indicates to euclidean distance.Import math module to use sqrt function."
   ]
  },
  {
   "cell_type": "code",
   "execution_count": null,
   "metadata": {},
   "outputs": [],
   "source": [
    "import math\n",
    "pos = [0,0]\n",
    "while True:\n",
    "    s = input()\n",
    "    if not s:\n",
    "        break\n",
    "    movement = s.split(\" \")\n",
    "    direction = movement[0]\n",
    "    steps = int(movement[1])\n",
    "    if direction==\"UP\":\n",
    "        pos[0]+=steps\n",
    "    elif direction==\"DOWN\":\n",
    "        pos[0]-=steps\n",
    "    elif direction==\"LEFT\":\n",
    "        pos[1]-=steps\n",
    "    elif direction==\"RIGHT\":\n",
    "        pos[1]+=steps\n",
    "    else:\n",
    "        pass\n",
    "\n",
    "print(int(round(math.sqrt(pos[1]**2+pos[0]**2)))) "
   ]
  },
  {
   "cell_type": "code",
   "execution_count": null,
   "metadata": {},
   "outputs": [],
   "source": [
    "import  math\n",
    "\n",
    "x,y = 0,0\n",
    "while True:\n",
    "    s = input().split()\n",
    "    if not s:\n",
    "        break\n",
    "    if s[0]=='UP':                  # s[0] indicates command\n",
    "        x-=int(s[1])                # s[1] indicates unit of move\n",
    "    if s[0]=='DOWN':\n",
    "        x+=int(s[1])\n",
    "    if s[0]=='LEFT':\n",
    "        y-=int(s[1])\n",
    "    if s[0]=='RIGHT':\n",
    "        y+=int(s[1])\n",
    "                                    # N**P means N^P\n",
    "dist = round(math.sqrt(x**2 + y**2))  # euclidean distance = square root of (x^2+y^2) and rounding it to nearest integer\n",
    "print(dist)"
   ]
  },
  {
   "cell_type": "code",
   "execution_count": null,
   "metadata": {},
   "outputs": [],
   "source": []
  }
 ],
 "metadata": {
  "kernelspec": {
   "display_name": "Python 3",
   "language": "python",
   "name": "python3"
  },
  "language_info": {
   "codemirror_mode": {
    "name": "ipython",
    "version": 3
   },
   "file_extension": ".py",
   "mimetype": "text/x-python",
   "name": "python",
   "nbconvert_exporter": "python",
   "pygments_lexer": "ipython3",
   "version": "3.8.8"
  }
 },
 "nbformat": 4,
 "nbformat_minor": 2
}
