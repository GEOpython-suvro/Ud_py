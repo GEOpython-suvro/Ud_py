{
 "cells": [
  {
   "cell_type": "markdown",
   "metadata": {},
   "source": [
    "# 1- QUESTION:\n",
    "Write a function called get_bill_total() that takes a bill amount and a sales tax percentage and\n",
    "returns the total bill amount, rounded to two decimal places."
   ]
  },
  {
   "cell_type": "code",
   "execution_count": null,
   "metadata": {},
   "outputs": [],
   "source": [
    "#get_bill_total --- Takes a bill amount and sales tax percentage and returns new total.\n",
    "def get_bill_total(amount, tax):\n",
    "    return round(amount * (1+tax/100), 2)\n",
    "\n",
    "print(get_bill_total(43.25, 6))"
   ]
  },
  {
   "cell_type": "markdown",
   "metadata": {},
   "source": [
    "# 2- QUESTION:\n",
    "Write a function called add_up_range() that takes a starting location, ending location and step and\n",
    "adds up all the integers in that range. For instance, add_up_range(2,6,1) would add up the integers\n",
    "2 + 3 + 4 + 5 and return 14. Have the three arguments behave just like they do in Python’s range\n",
    "statement."
   ]
  },
  {
   "cell_type": "code",
   "execution_count": 3,
   "metadata": {},
   "outputs": [
    {
     "name": "stdout",
     "output_type": "stream",
     "text": [
      "24\n"
     ]
    }
   ],
   "source": [
    "#add_up_range --- adds up all the numbers in a range\n",
    "def add_up_range(start, end, step):\n",
    "    total = 0\n",
    "    for i in range(start, end, step):\n",
    "        total += i\n",
    "    return total\n",
    "\n",
    "print(add_up_range(3, 10, 2))"
   ]
  },
  {
   "cell_type": "markdown",
   "metadata": {},
   "source": [
    "# 3- QUESTION:\n",
    "Write a Python function to find the Max of three numbers"
   ]
  },
  {
   "cell_type": "code",
   "execution_count": 2,
   "metadata": {},
   "outputs": [
    {
     "name": "stdout",
     "output_type": "stream",
     "text": [
      "6\n"
     ]
    }
   ],
   "source": [
    "def max_of_two( x, y ):\n",
    "    if x > y:\n",
    "        return x\n",
    "    return y\n",
    "def max_of_three( x, y, z ):\n",
    "    return max_of_two( x, max_of_two( y, z ) )\n",
    "print(max_of_three(3, 6, -5))"
   ]
  },
  {
   "cell_type": "markdown",
   "metadata": {},
   "source": [
    "# 4- QUESTION: \n",
    "Write a Python function to sum all the numbers in a list."
   ]
  },
  {
   "cell_type": "code",
   "execution_count": 5,
   "metadata": {},
   "outputs": [
    {
     "name": "stdout",
     "output_type": "stream",
     "text": [
      "20\n"
     ]
    }
   ],
   "source": [
    "def sum_list(numbers):\n",
    "    total = 0\n",
    "    for x in numbers:\n",
    "        total += x\n",
    "    return total\n",
    "print(sum_list((8, 2, 3, 0, 7)))"
   ]
  },
  {
   "cell_type": "markdown",
   "metadata": {},
   "source": [
    "# 5- QUESTION:\n",
    "Write a Python program to print the even numbers from a given list."
   ]
  },
  {
   "cell_type": "code",
   "execution_count": null,
   "metadata": {},
   "outputs": [],
   "source": [
    "def is_even_num(l):\n",
    "    enum = []\n",
    "    for n in l:\n",
    "        if n % 2 == 0:\n",
    "            enum.append(n)\n",
    "    return enum\n",
    "print(is_even_num([1, 2, 3, 4, 5, 6, 7, 8, 9]))"
   ]
  },
  {
   "cell_type": "markdown",
   "metadata": {},
   "source": [
    "# 6 - QUESTION:\n",
    "Write a Python program to reverse a string.For example, user enters 'string' and the output is 'gnirts'. \n",
    "\n",
    "\n"
   ]
  },
  {
   "cell_type": "code",
   "execution_count": 10,
   "metadata": {},
   "outputs": [
    {
     "name": "stdout",
     "output_type": "stream",
     "text": [
      "dcba4321\n"
     ]
    }
   ],
   "source": [
    "\n",
    "\n",
    "def string_reverse(s):\n",
    "\n",
    "    reverse = ''\n",
    "    i= len(s)\n",
    "    while i > 0:\n",
    "        reverse += s[ i - 1 ]\n",
    "        i-=1\n",
    "    return reverse\n",
    "print(string_reverse('1234abcd'))"
   ]
  },
  {
   "cell_type": "code",
   "execution_count": 19,
   "metadata": {},
   "outputs": [
    {
     "data": {
      "text/plain": [
       "'gnirts'"
      ]
     },
     "execution_count": 19,
     "metadata": {},
     "output_type": "execute_result"
    }
   ],
   "source": [
    "s = 'string'\n",
    "s[::-1]"
   ]
  },
  {
   "cell_type": "code",
   "execution_count": 13,
   "metadata": {},
   "outputs": [],
   "source": [
    "s = 'string'\n",
    "i = len(s)\n",
    "s[i-1]\n",
    "i-=1"
   ]
  },
  {
   "cell_type": "code",
   "execution_count": 10,
   "metadata": {},
   "outputs": [
    {
     "name": "stdout",
     "output_type": "stream",
     "text": [
      "dcba4321\n"
     ]
    }
   ],
   "source": [
    "def string_reverse(str1):\n",
    "\n",
    "    l=''\n",
    "    r = len(str1)\n",
    "    for i in str1:\n",
    "        l +=str1[r-1]\n",
    "        r-=1\n",
    "    return l\n",
    "print(string_reverse('1234abcd'))"
   ]
  },
  {
   "cell_type": "markdown",
   "metadata": {},
   "source": [
    "# 7- QUESTION:\n",
    "Write a function called rand_lower_string() that takes an integer parameter and returns a random\n",
    "string of that many lowercase letters."
   ]
  },
  {
   "cell_type": "code",
   "execution_count": 12,
   "metadata": {},
   "outputs": [
    {
     "name": "stdout",
     "output_type": "stream",
     "text": [
      "xtxzejwvis\n"
     ]
    }
   ],
   "source": [
    "\n",
    "#rand_lower_string() --- Returns a random string of lowercase letters\n",
    "from random import choice\n",
    "\n",
    "def rand_lower_string(n):\n",
    "    return ''.join(choice('abcdefghijklmnopqrstuvwxyz') for i in range(n))\n",
    "        \n",
    "print(rand_lower_string(10))"
   ]
  },
  {
   "cell_type": "code",
   "execution_count": 13,
   "metadata": {},
   "outputs": [
    {
     "name": "stdout",
     "output_type": "stream",
     "text": [
      "umfrokobdv\n"
     ]
    }
   ],
   "source": [
    "def rand_lower_string(n):\n",
    "    empty = ''\n",
    "    choice('abcdefghijklmnopqrstuvwxyz')\n",
    "    for i in range(n):\n",
    "        l = choice('abcdefghijklmnopqrstuvwxyz')\n",
    "        empty+=l\n",
    "    return empty\n",
    "\n",
    "print(rand_lower_string(10))    "
   ]
  },
  {
   "cell_type": "markdown",
   "metadata": {},
   "source": [
    "# 8-QUESTION:\n",
    "\n",
    "Write a function called daily_blogs() amd return the blog details in your output. Use *args in your function. Function should print out all the blogs you have in your diary.\n",
    "\n",
    "\n",
    "\n",
    "blog_1 = \"Today it is a nice day\"\n",
    "\n",
    "blog_2 = 'I am happy '\n",
    "\n",
    "blog_3 = 'My cat is awesome. His name is Sam'\n",
    "\n",
    "blog_4 ='Cars are cool'"
   ]
  },
  {
   "cell_type": "markdown",
   "metadata": {},
   "source": [
    "Arbitrary Functions\n",
    "\n",
    "Python Arbitrary Arguments\n",
    "Sometimes, we do not know in advance the number of arguments that will be passed into a function. Python allows us to handle this kind of situation through function calls with an arbitrary number of arguments.\n",
    "\n",
    "In the function definition, we use an asterisk (*) before the parameter name to denote this kind of argument. Here is an example."
   ]
  },
  {
   "cell_type": "code",
   "execution_count": 15,
   "metadata": {},
   "outputs": [
    {
     "name": "stdout",
     "output_type": "stream",
     "text": [
      "Today it is a nice day\n",
      "I am happy \n",
      "My cat is awesome. His name is Sam\n",
      "Cars are cool\n"
     ]
    }
   ],
   "source": [
    "def daily_blogs(*args):\n",
    "    for post in args:\n",
    "        print(post)\n",
    "\n",
    "            \n",
    "blog_1 = \"Today it is a nice day\"\n",
    "blog_2 = 'I am happy '\n",
    "blog_3 = 'My cat is awesome. His name is Sam'\n",
    "blog_4 ='Cars are cool'            \n",
    "daily_blogs(blog_1,blog_2,blog_3,blog_4)"
   ]
  },
  {
   "cell_type": "markdown",
   "metadata": {},
   "source": [
    "# 9- QUESTION:\n",
    "\n",
    "\n",
    "\n",
    "Write a function called my_sum() and sum all the numbers up whatever the user enters numbers into the function. Users is able to enter more than two numbers. For example, my_sum(1,2,3,4,5,6) and output is 21"
   ]
  },
  {
   "cell_type": "code",
   "execution_count": 16,
   "metadata": {},
   "outputs": [
    {
     "name": "stdout",
     "output_type": "stream",
     "text": [
      "6\n"
     ]
    },
    {
     "data": {
      "text/plain": [
       "25"
      ]
     },
     "execution_count": 16,
     "metadata": {},
     "output_type": "execute_result"
    }
   ],
   "source": [
    "def my_sum(*args):\n",
    "    result = 0\n",
    "    # Iterating over the Python args tuple\n",
    "    for x in args:\n",
    "        result += x\n",
    "    return result\n",
    "\n",
    "#print(my_sum(1, 2, 3))\n",
    "#Example: can you write like\n",
    "num=(1,2,3)\n",
    "print(my_sum(*num))#When you put a star right in front of num, then you can use var to sum all\n",
    "#the values in list of tuple. This is a trick:)\n",
    "#When you put a star, it means that this tuple or list and go through it and pass each one of these \n",
    "#in each element or each item as a separate argument\n",
    "#This is called unpacking. We are taking ta collection and chopping it up unpacking it into\n",
    "#individual components and passing them.\n"
   ]
  },
  {
   "cell_type": "markdown",
   "metadata": {},
   "source": [
    "# 10- QUESTION:\n",
    "Write a function called concatenates() that  is able to concatenates every single string entered\n",
    "by user. Unpacking dictionaries is used. For example, user enters \n",
    "x = {'a':\"Real\", 'b':\"Python\", 'c':\"Is\", 'd':\"Great\", 'e':\"!\",'f':\"Heyo\"}\n",
    "Output : RealPythonIsGreat!Heyo\n"
   ]
  },
  {
   "cell_type": "code",
   "execution_count": 16,
   "metadata": {},
   "outputs": [
    {
     "name": "stdout",
     "output_type": "stream",
     "text": [
      "RealPythonIsGreat!Heyo\n"
     ]
    }
   ],
   "source": [
    "def concatenates(**kwargs):\n",
    "    result = \"\"\n",
    "    # Iterating over the Python kwargs dictionary\n",
    "    for arg in kwargs.values():\n",
    "        result += arg\n",
    "    return result\n",
    "\n",
    "x = {'a':\"Real\", 'b':\"Python\", 'c':\"Is\", 'd':\"Great\", 'e':\"!\",'f':\"Heyo\"}\n",
    "print(concatenate(**x))"
   ]
  },
  {
   "cell_type": "code",
   "execution_count": null,
   "metadata": {},
   "outputs": [],
   "source": [
    "def concatenate(**kwargs):\n",
    "    result = \"\"\n",
    "    # Iterating over the keys of the Python kwargs dictionary\n",
    "    for arg in kwargs:\n",
    "        result += arg\n",
    "    return result\n",
    "\n",
    "print(concatenate(a=\"Real\", b=\"Python\", c=\"Is\", d=\"Great\", e=\"!\"))"
   ]
  },
  {
   "cell_type": "markdown",
   "metadata": {},
   "source": [
    "# 11-QUESTION:\n",
    "Write a Python function that takes a list and returns a new list with unique elements of the first list.\n",
    "Sample List : [1,2,3,3,3,3,4,5]\n",
    "Unique List : [1, 2, 3, 4, 5]"
   ]
  },
  {
   "cell_type": "code",
   "execution_count": 23,
   "metadata": {},
   "outputs": [
    {
     "name": "stdout",
     "output_type": "stream",
     "text": [
      "[1, 2, 3, 4, 5]\n"
     ]
    }
   ],
   "source": [
    "def unique_list(lst):\n",
    "  empty_list = []\n",
    "  for a in lst:\n",
    "    if a not in empty_list:\n",
    "      empty_list.append(a)\n",
    "  return empty_list\n",
    "\n",
    "print(unique_list([1,2,3,3,3,3,4,5])) "
   ]
  },
  {
   "cell_type": "markdown",
   "metadata": {},
   "source": [
    "# 12- QUESTION:\n",
    "\n",
    "\n",
    "\n",
    "----\n",
    "Write a Python program to create a lambda function that adds 20 to a given number passed in as an argument, also create a lambda function that multiplies argument x with argument y and print the result.\n"
   ]
  },
  {
   "cell_type": "raw",
   "metadata": {},
   "source": [
    "# In Python, an anonymous function is a function that is defined without a name.\n",
    "\n",
    "While normal functions are defined using the def keyword in Python, anonymous functions are defined using the lambda keyword.\n",
    "\n",
    "Hence, anonymous functions are also called lambda functions.\n",
    "\n",
    "Lambda functions can have any number of arguments but only one expression. The expression is evaluated and returned. Lambda functions can be used wherever function objects are required.\n",
    "\n",
    "lambda arguments: expression"
   ]
  },
  {
   "cell_type": "code",
   "execution_count": 24,
   "metadata": {},
   "outputs": [
    {
     "name": "stdout",
     "output_type": "stream",
     "text": [
      "30\n",
      "48\n"
     ]
    }
   ],
   "source": [
    "r = lambda a : a + 20\n",
    "print(r(10))\n",
    "r = lambda x, y : x * y\n",
    "print(r(12, 4))"
   ]
  },
  {
   "cell_type": "markdown",
   "metadata": {},
   "source": [
    "# 13- QUESTION:\n",
    "a)- Use lambda to write a function summing two different number \n",
    "b)- Use lambda to write a function  multiply two different numbers\n",
    "c)- Use lambda to write a function taking square of the number "
   ]
  },
  {
   "cell_type": "code",
   "execution_count": null,
   "metadata": {},
   "outputs": [],
   "source": [
    "\n",
    "add = lambda a,b:a+b\n",
    "mult=lambda a,b:a*b\n",
    "sqr = lambda num: num*num\n",
    "\n"
   ]
  },
  {
   "cell_type": "markdown",
   "metadata": {},
   "source": [
    "# QUESTION 14: \n",
    "Create a function to convert two different list into one dictionary output as in the example.\n",
    "\n",
    "Input:\n",
    "stocks = ['reliance', 'infosys', 'tcs']\n",
    "prices = [2175, 1127, 2750]\n",
    "Output:\n",
    "{'reliance': 2175, 'infosys': 1127, 'tcs': 2750}"
   ]
  },
  {
   "cell_type": "raw",
   "metadata": {},
   "source": [
    "The Python zip() function accepts iterable items and merges them into a single tuple. The resultant value is a zip object that stores pairs of iterables. You can pass lists, tuples, sets, or dictionaries through the zip() function"
   ]
  },
  {
   "cell_type": "code",
   "execution_count": 43,
   "metadata": {},
   "outputs": [
    {
     "name": "stdout",
     "output_type": "stream",
     "text": [
      "{'reliance': 2175, 'infosys': 1127, 'tcs': 2750}\n"
     ]
    }
   ],
   "source": [
    "stocks = ['reliance', 'infosys', 'tcs']\n",
    "prices = [2175, 1127, 2750]\n",
    "def merged(stocks,prices):\n",
    "    new_dict = {stocks: prices for stocks,prices in zip(stocks, prices)}\n",
    "    return new_dict\n",
    "print(merged(stocks,prices))"
   ]
  },
  {
   "cell_type": "code",
   "execution_count": 36,
   "metadata": {},
   "outputs": [
    {
     "data": {
      "text/plain": [
       "{'reliance': 2175, 'infosys': 1127, 'tcs': 2750}"
      ]
     },
     "execution_count": 36,
     "metadata": {},
     "output_type": "execute_result"
    }
   ],
   "source": [
    "{stocks: prices for (stocks, prices) in zip(stocks, prices)}"
   ]
  },
  {
   "cell_type": "code",
   "execution_count": 41,
   "metadata": {},
   "outputs": [
    {
     "data": {
      "text/plain": [
       "{'reliance': 2175, 'infosys': 1127, 'tcs': 2750}"
      ]
     },
     "execution_count": 41,
     "metadata": {},
     "output_type": "execute_result"
    }
   ],
   "source": [
    "#Stpre the two different list into dictionary if you use dict.\n",
    "#If you use list, then the output will be array of tuple.\n",
    "dict(zip(stocks, prices))"
   ]
  },
  {
   "cell_type": "markdown",
   "metadata": {},
   "source": [
    "# 15- QUESTION:\n",
    "Add two lists below using map function with lambda and return output as list.\n",
    "\n",
    "\n",
    "Input:\n",
    "list1 = [1, 2, 3, 4]\n",
    "\n",
    "list2 = [100, 200, 300, 400]\n",
    "\n",
    "\n",
    "\n",
    "Output:[101, 202, 303, 404]\n"
   ]
  },
  {
   "cell_type": "code",
   "execution_count": null,
   "metadata": {},
   "outputs": [],
   "source": [
    "#We can also use lambda expressions with map to achieve above result.\n",
    "#map(function, iterable, ...)\n",
    "#First Method\n",
    "list1 = [1, 2, 3, 4]\n",
    "list2 = [100, 200, 300, 400]\n",
    "output = list(map(lambda x, y: x+y , list1, list2))"
   ]
  },
  {
   "cell_type": "code",
   "execution_count": 46,
   "metadata": {},
   "outputs": [
    {
     "data": {
      "text/plain": [
       "[101, 202, 303, 404]"
      ]
     },
     "execution_count": 46,
     "metadata": {},
     "output_type": "execute_result"
    }
   ],
   "source": [
    "#First Method\n",
    "\n",
    "def sumx(a,b):\n",
    "    return a+b\n",
    "list1 = [1, 2, 3, 4]\n",
    "list2 = [100, 200, 300, 400]\n",
    "list(map(sumx,list1,list2))"
   ]
  },
  {
   "cell_type": "code",
   "execution_count": 67,
   "metadata": {},
   "outputs": [
    {
     "data": {
      "text/plain": [
       "[101, 202, 303, 404]"
      ]
     },
     "execution_count": 67,
     "metadata": {},
     "output_type": "execute_result"
    }
   ],
   "source": [
    "#Third Method\n",
    "\n",
    "list1 = [1, 2, 3, 4]\n",
    "list2 = [100, 200, 300, 400]\n",
    "def sum_list(list1,list2):\n",
    "    zipped_list=zip(list1,list2)\n",
    "    return [x+y for (x,y) in zipped_list]\n",
    "    \n",
    "sum_list(list1,list2)    "
   ]
  },
  {
   "cell_type": "code",
   "execution_count": 71,
   "metadata": {},
   "outputs": [
    {
     "name": "stdout",
     "output_type": "stream",
     "text": [
      "[101, 202, 303, 406]\n"
     ]
    }
   ],
   "source": [
    "#forth method\n",
    "list1 = [1, 2, 3, 6]\n",
    "list2 = [100, 200, 300, 400]\n",
    "zipped_list=zip(list1,list2)\n",
    "\n",
    "def sum_list(list1,list2):\n",
    "    zipped_list=zip(list1,list2)\n",
    "    sumx1 = []\n",
    "    for (x,y) in zipped_list:\n",
    "        sumx1.append((x+y))\n",
    "    print(sumx1)\n",
    "\n",
    "sum_list(list1,list2)"
   ]
  },
  {
   "cell_type": "code",
   "execution_count": 66,
   "metadata": {},
   "outputs": [
    {
     "name": "stdout",
     "output_type": "stream",
     "text": [
      "101\n",
      "202\n",
      "303\n",
      "406\n"
     ]
    }
   ],
   "source": [
    "list1 = [1, 2, 3, 6]\n",
    "list2 = [100, 200, 300, 400]\n",
    "zipped_list=zip(list1,list2)\n",
    "\n",
    "sumx1 = []\n",
    "for (x,y) in zipped_list:\n",
    "    print((x+y))"
   ]
  },
  {
   "cell_type": "markdown",
   "metadata": {},
   "source": [
    "# 16- QUESTION:\n",
    "\n",
    "Use lambda and filter function to filter out vowles from the list below.\n",
    "\n",
    "Input:\n",
    "\n",
    "alphabets = ['a', 'b', 'c', 'd', 'e', 'f', 'g', 'h', 'i']\n",
    "\n",
    "\n",
    "vowels = ['a', 'e', 'i', 'o', 'u']\n",
    "\n",
    "Output:\n",
    "['a', 'e', 'i']  "
   ]
  },
  {
   "cell_type": "raw",
   "metadata": {},
   "source": [
    "filter(function, sequence)\n",
    "Parameters:\n",
    "function: function that tests if each element of a sequence true or not.\n",
    "sequence: sequence which needs to be filtered, it can be sets, lists, tuples, or containers of any iterators.\n",
    "Returns: returns an iterator that is already filtered."
   ]
  },
  {
   "cell_type": "code",
   "execution_count": 3,
   "metadata": {},
   "outputs": [
    {
     "data": {
      "text/plain": [
       "['a', 'e', 'i']"
      ]
     },
     "execution_count": 3,
     "metadata": {},
     "output_type": "execute_result"
    }
   ],
   "source": [
    "alphabets = ['a', 'b', 'c', 'd', 'e', 'f', 'g', 'h', 'i']\n",
    "vowels = ['a', 'e', 'i', 'o', 'u']\n",
    "output = list(filter(lambda x: x in vowels , alphabets))\n",
    "output"
   ]
  },
  {
   "cell_type": "code",
   "execution_count": 1,
   "metadata": {},
   "outputs": [
    {
     "data": {
      "text/plain": [
       "[True, False, False, False, True, False, False, False, True]"
      ]
     },
     "execution_count": 1,
     "metadata": {},
     "output_type": "execute_result"
    }
   ],
   "source": [
    "alphabets = ['a', 'b', 'c', 'd', 'e', 'f', 'g', 'h', 'i']\n",
    "vowels = ['a', 'e', 'i', 'o', 'u']\n",
    "output = list(map(lambda x: (x in vowels) , alphabets))\n",
    "output"
   ]
  },
  {
   "cell_type": "markdown",
   "metadata": {},
   "source": [
    "# 17- QUESTION:\n",
    "\n",
    "Write a Python program to filter a list of integers using Lambda. \n",
    "\n",
    "Original list of integers:\n",
    "\n",
    "[1, 2, 3, 4, 5, 6, 7, 8, 9, 10]\n",
    "\n",
    "Even numbers from the said list:\n",
    "\n",
    "[2, 4, 6, 8, 10]\n",
    "\n",
    "Odd numbers from the said list:\n",
    "\n",
    "[1, 3, 5, 7, 9]"
   ]
  },
  {
   "cell_type": "code",
   "execution_count": 20,
   "metadata": {},
   "outputs": [
    {
     "name": "stdout",
     "output_type": "stream",
     "text": [
      "Original list of integers:\n",
      "[1, 2, 3, 4, 5, 6, 7, 8, 9, 10]\n",
      "\n",
      "Even numbers from the said list:\n",
      "[2, 4, 6, 8, 10]\n",
      "\n",
      "Odd numbers from the said list:\n",
      "[1, 3, 5, 7, 9]\n"
     ]
    }
   ],
   "source": [
    "nums = [1, 2, 3, 4, 5, 6, 7, 8, 9, 10]\n",
    "print(\"Original list of integers:\")\n",
    "print(nums)\n",
    "print(\"\\nEven numbers from the said list:\")\n",
    "even_nums = list(filter(lambda x: x%2 == 0, nums))\n",
    "print(even_nums)\n",
    "print(\"\\nOdd numbers from the said list:\")\n",
    "odd_nums = list(filter(lambda x: x%2 != 0, nums))\n",
    "print(odd_nums)"
   ]
  },
  {
   "cell_type": "markdown",
   "metadata": {},
   "source": [
    "# 18-QUESTION:\n",
    "Write a Python program to add two given lists and find the difference between lists. Use map() function.\n",
    "Input:\n",
    " \n",
    "nums1 = [6, 5, 3, 9]\n",
    "\n",
    "nums2 = [0, 1, 7, 7]\n",
    "\n",
    "Output:\n",
    "[(6, 6), (6, 4), (10, -4), (16, 2)]"
   ]
  },
  {
   "cell_type": "code",
   "execution_count": 7,
   "metadata": {},
   "outputs": [
    {
     "name": "stdout",
     "output_type": "stream",
     "text": [
      "Original lists:\n",
      "[6, 5, 3, 9]\n",
      "[0, 1, 7, 7]\n",
      "\n",
      "Result: [(6, 6), (6, 4), (10, -4), (16, 2)]\n"
     ]
    }
   ],
   "source": [
    "def addition_subtrction(x, y):\n",
    "    return x + y, x - y\n",
    " \n",
    "nums1 = [6, 5, 3, 9]\n",
    "nums2 = [0, 1, 7, 7]\n",
    "print(\"Original lists:\")\n",
    "print(nums1)\n",
    "print(nums2)\n",
    "result = list(map(addition_subtrction, nums1, nums2))\n",
    "print(\"\\nResult:\",result)"
   ]
  },
  {
   "cell_type": "markdown",
   "metadata": {},
   "source": [
    "# 19-QUESTION:\n",
    "Write a function called integer_lengths() that takes a list of integers and returns the sum of all their\n",
    "lengths. For instance, given [2,44,532,3,44,22], the sum of the lengths is 1+2+3+1+2+2 = 11."
   ]
  },
  {
   "cell_type": "code",
   "execution_count": null,
   "metadata": {},
   "outputs": [],
   "source": [
    "#integer_lengths --- Given list of integers, return the sum of their lengths.\n",
    "def integer_lengths(L):\n",
    "    return sum(len(str(x)) for x in L)\n",
    "\n",
    "print(integer_lengths([2, 14, 126, 11, 4096]))\n"
   ]
  },
  {
   "cell_type": "markdown",
   "metadata": {},
   "source": [
    "# 20- QUESTION:\n",
    "Write a function called reverse_only_letters() that takes a string and creates returns a new string\n",
    "where all the positions of all the letters have been reversed, but all other characters have been left in\n",
    "same position. For instance, if the argument is ab*c&&de then the returned string would be ed*c&&ba."
   ]
  },
  {
   "cell_type": "code",
   "execution_count": 27,
   "metadata": {},
   "outputs": [
    {
     "name": "stdout",
     "output_type": "stream",
     "text": [
      "##fe#dcb!a?&&\n"
     ]
    }
   ],
   "source": [
    "#15 reverse_only_letters --- Takes a string and reverses the letters, but no other characters.\n",
    "def reverse_only_letters(s):\n",
    "    reverse_letters = [c for c in s[::-1] if c.isalpha()]\n",
    "    t = ''\n",
    "    i = 0\n",
    "    for x in s:\n",
    "        if x.isalpha():\n",
    "            t += reverse_letters[i]\n",
    "            i += 1\n",
    "        else:\n",
    "            t += x\n",
    "    return t\n",
    "\n",
    "print(reverse_only_letters('##ab#cde!f?&&'))\n",
    "\n",
    "#   ##fe#dcb!a?&&"
   ]
  },
  {
   "cell_type": "markdown",
   "metadata": {},
   "source": [
    "# 21- QUESTION:\n",
    "\n",
    "Write a function called changes_by_one() that takes a list of integers and integers and returns a list\n",
    "of all the indices at which the current value is equal to 1 more than the previous value. For instance,\n",
    "if the list is [1,2,5,5,10,11,12,15,16], it would return [1,5,6,8]."
   ]
  },
  {
   "cell_type": "code",
   "execution_count": 57,
   "metadata": {},
   "outputs": [
    {
     "name": "stdout",
     "output_type": "stream",
     "text": [
      "[1, 4, 5, 8]\n"
     ]
    }
   ],
   "source": [
    "#19 changes_by_one --- Given list of integers, return a list of all indices where values change by +1.\n",
    "def changes_by_one(L):\n",
    "    return [i for i in range(1, len(L)) if L[i] == L[i-1]+1]\n",
    "\n",
    "print(changes_by_one([1, 2, 4, 8, 9, 10, 15, 20, 21]))"
   ]
  },
  {
   "cell_type": "markdown",
   "metadata": {},
   "source": [
    "# 22- QUESTION:\n",
    "\n",
    "Write a function called union() that takes two lists and returns a new list that contains all the items\n",
    "that are in one, the other, or both of the lists. Make it so that the returned list contains no repeated\n",
    "copies of elements.\n",
    "\n",
    "Example:\n",
    "union([1,1,2,3,8], [2,3,3,6,10])\n",
    "\n",
    "Output:\n",
    "[1, 2, 3, 8, 6, 10]"
   ]
  },
  {
   "cell_type": "code",
   "execution_count": 60,
   "metadata": {},
   "outputs": [
    {
     "name": "stdout",
     "output_type": "stream",
     "text": [
      "[1, 2, 3, 8, 6, 10]\n"
     ]
    }
   ],
   "source": [
    "# union --- Union together two lists, making sure there are no repeats.\n",
    "def union(L, M):\n",
    "    U = []\n",
    "    for x in L:\n",
    "        if x not in U:\n",
    "            U.append(x)\n",
    "    for x in M:\n",
    "        if x not in U:\n",
    "            U.append(x)\n",
    "    return U\n",
    "\n",
    "print(union([1,1,2,3,8], [2,3,3,6,10]))"
   ]
  },
  {
   "cell_type": "markdown",
   "metadata": {},
   "source": [
    "# 23- QUESTION:\n",
    "\n",
    "Write a function called print_2d() that takes a 2-dimensional list and prints the list nicely, with each\n",
    "row being printed on its own line."
   ]
  },
  {
   "cell_type": "code",
   "execution_count": 62,
   "metadata": {},
   "outputs": [
    {
     "name": "stdout",
     "output_type": "stream",
     "text": [
      "1 2 3 \n",
      "4 5 6 \n",
      "7 8 9 \n"
     ]
    }
   ],
   "source": [
    "# print_2d --- Print a 2d list nicely.\n",
    "def print_2d(L):\n",
    "    for i in range(len(L)):\n",
    "        for j in range(len(L[i])):\n",
    "            print(L[i][j], end=' ')\n",
    "        print()\n",
    "\n",
    "L = [[1,2,3], [4,5,6], [7,8,9]]\n",
    "print_2d(L)"
   ]
  },
  {
   "cell_type": "markdown",
   "metadata": {},
   "source": [
    "# 24- QUESTION:\n",
    "Write a function called random_2d_list() that takes integers, m, n, x, and y and creates an m \u0002 n\n",
    "2d-list whose elements are random numbers from x to y."
   ]
  },
  {
   "cell_type": "code",
   "execution_count": 63,
   "metadata": {},
   "outputs": [
    {
     "name": "stdout",
     "output_type": "stream",
     "text": [
      "20 16 18 18 18 \n",
      "14 20 14 17 13 \n",
      "19 18 16 10 13 \n"
     ]
    }
   ],
   "source": [
    "#random_2d_list --- Returns a 2d list of a given size with random numbers from a given range.\n",
    "from random import randint\n",
    "\n",
    "def random_2d_list(m, n, x, y):\n",
    "    return [[randint(x, y) for j in range(n)] for i in range(m)]\n",
    "\n",
    "print_2d(random_2d_list(3, 5, 10, 20))"
   ]
  },
  {
   "cell_type": "code",
   "execution_count": null,
   "metadata": {},
   "outputs": [],
   "source": []
  }
 ],
 "metadata": {
  "kernelspec": {
   "display_name": "Python 3",
   "language": "python",
   "name": "python3"
  },
  "language_info": {
   "codemirror_mode": {
    "name": "ipython",
    "version": 3
   },
   "file_extension": ".py",
   "mimetype": "text/x-python",
   "name": "python",
   "nbconvert_exporter": "python",
   "pygments_lexer": "ipython3",
   "version": "3.8.8"
  }
 },
 "nbformat": 4,
 "nbformat_minor": 2
}
