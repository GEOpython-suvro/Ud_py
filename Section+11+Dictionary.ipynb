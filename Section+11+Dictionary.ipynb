{
 "cells": [
  {
   "cell_type": "markdown",
   "metadata": {},
   "source": [
    "# 1- QUESTION:"
   ]
  },
  {
   "cell_type": "code",
   "execution_count": 6,
   "metadata": {},
   "outputs": [
    {
     "name": "stdout",
     "output_type": "stream",
     "text": [
      "{'Ten': 10, 'Twenty': 20, 'Thirty': 30}\n"
     ]
    }
   ],
   "source": [
    "\"\"\"Below are the two lists convert it into the dictionary\n",
    "keys = ['Ten', 'Twenty', 'Thirty']\n",
    "values = [10, 20, 30]\n",
    "Expected output:{'Ten': 10, 'Twenty': 20, 'Thirty': 30}\"\"\"\n",
    "keys = ['Ten', 'Twenty', 'Thirty']\n",
    "values = [10, 20, 30]\n",
    "\n",
    "sampleDict = dict(zip(keys, values))\n",
    "print(sampleDict)"
   ]
  },
  {
   "cell_type": "markdown",
   "metadata": {},
   "source": [
    "# 2-QUESTION:"
   ]
  },
  {
   "cell_type": "code",
   "execution_count": 7,
   "metadata": {},
   "outputs": [
    {
     "name": "stdout",
     "output_type": "stream",
     "text": [
      "[('x', 3), ('y', 4), ('z', 5)]\n",
      "c = ('x', 'y', 'z')\n",
      "v = (3, 4, 5)\n"
     ]
    }
   ],
   "source": [
    "\"\"\"Use the inputs below and try to unzip them with unpacking method. Use zip function to unzip them.\n",
    "coordinate = ['x', 'y', 'z']\n",
    "value = [3, 4, 5]\n",
    "\n",
    "Output:\n",
    "[('x', 3), ('y', 4), ('z', 5)]\n",
    "c = ('x', 'y', 'z')\n",
    "v = (3, 4, 5)\"\"\"\n",
    "coordinate = ['x', 'y', 'z']\n",
    "value = [3, 4, 5]\n",
    "\n",
    "result = zip(coordinate, value)\n",
    "result_list = list(result)\n",
    "print(result_list)\n",
    "\n",
    "c, v =  zip(*result_list)\n",
    "print('c =', c)\n",
    "print('v =', v)"
   ]
  },
  {
   "cell_type": "markdown",
   "metadata": {},
   "source": [
    "# 3-QUESTION:"
   ]
  },
  {
   "cell_type": "code",
   "execution_count": 8,
   "metadata": {},
   "outputs": [
    {
     "name": "stdout",
     "output_type": "stream",
     "text": [
      "(1, 2, 3, 4)\n",
      "('a', 'b', 'c', 'd')\n"
     ]
    }
   ],
   "source": [
    "\"\"\"Say you have a list of tuples and want to separate the elements of each tuple into independent sequences. To do this, you can use zip() along with the unpacking operator *\n",
    "\n",
    "Input :\n",
    "pairs = [(1, 'a'), (2, 'b'), (3, 'c'), (4, 'd')]\n",
    "\n",
    "Output: \n",
    "\n",
    "(1, 2, 3, 4)\n",
    "('a', 'b', 'c', 'd')\"\"\"\n",
    "pairs = [(1, 'a'), (2, 'b'), (3, 'c'), (4, 'd')]\n",
    "numbers, letters = zip(*pairs)\n",
    "print(numbers)\n",
    "print(letters)"
   ]
  },
  {
   "cell_type": "markdown",
   "metadata": {},
   "source": [
    "# 4- QUESTION:"
   ]
  },
  {
   "cell_type": "code",
   "execution_count": 9,
   "metadata": {},
   "outputs": [
    {
     "name": "stdout",
     "output_type": "stream",
     "text": [
      "11\n",
      "['abc', 'def', 'ghi', 'jkl', 'mno']\n",
      "abc 7\n",
      "def 11\n",
      "ghi 13\n",
      "jkl 17\n",
      "mno 19\n",
      "No\n",
      "[23, 11, 13, 17, 19]\n"
     ]
    }
   ],
   "source": [
    "\"\"\"Create a dictionary whose keys are the strings 'abc', 'def', 'ghi', 'jkl', and 'mno' and whose corresponding values\n",
    " are 7, 11, 13, 17, and 19. Then write dictionary code that does the following:\n",
    "(a) Print the value in the dictionary associated with the key 'def'.\n",
    "(b) Use the keys() method to print out all the keys.\n",
    "(c) Loop over the dictionary and print out all the keys and their associated values.\n",
    "(d) Use an if statement to check if the dictionary contains the key 'pqr' and print out an appropriate\n",
    "message indicating whether it does or doesn’t.\n",
    "(e) Change the value associated with the key 'abc' to 23 and then print out all the values in the dictionary using \n",
    "the values() method\"\"\"\n",
    "#Dictionary given in problem, then do several things.\n",
    "d = {'abc':7, 'def':11, 'ghi':13, 'jkl':17, 'mno':19}\n",
    "#a Print value associated with key 'def'.\n",
    "print(d['def'])\n",
    "#b Use keys() method.\n",
    "print(list(d.keys()))\n",
    "#c Loop over the dictionary.\n",
    "for k in d:\n",
    "    print(k, d[k])\n",
    "#d Check if 'pqr' is a key.\n",
    "if 'prq' in d:\n",
    "    print('Yes')\n",
    "else:\n",
    "    print('No')\n",
    "#e Change value associated with 'abc' to 23, print values.\n",
    "d['abc'] = 23\n",
    "print(list(d.values()))"
   ]
  },
  {
   "cell_type": "markdown",
   "metadata": {},
   "source": [
    "# 5- QUESTION:"
   ]
  },
  {
   "cell_type": "code",
   "execution_count": 26,
   "metadata": {},
   "outputs": [
    {
     "name": "stdout",
     "output_type": "stream",
     "text": [
      "{'Ten': 10, 'Twenty': 20, 'Thirty': 30, 'Fourty': 40, 'Fifty': 50}\n",
      "150\n"
     ]
    }
   ],
   "source": [
    "\"\"\"Merge following two Python dictionaries into one dictionary. Add the all values into the result variable and print it out\n",
    "dict1 = {'Ten': 10, 'Twenty': 20, 'Thirty': 30}\n",
    "dict2 = {'Thirty': 30, 'Fourty': 40, 'Fifty': 50}\n",
    "Expected Output: {'Ten': 10, 'Twenty': 20, 'Thirty': 30, 'Fourty': 40, 'Fifty': 50}\n",
    "Result is 150\"\"\"\n",
    "dict1 = {'Ten': 10, 'Twenty': 20, 'Thirty': 30}\n",
    "dict2 = {'Thirty': 30, 'Fourty': 40, 'Fifty': 50}\n",
    "\n",
    "dict3 = {**dict1, **dict2}\n",
    "print(dict3)\n",
    "\n",
    "result =0\n",
    "for i in dict3:\n",
    "    result+=dict3[i]\n",
    "print(result)\n",
    "    "
   ]
  },
  {
   "cell_type": "markdown",
   "metadata": {},
   "source": [
    "# 6- QUESTION:"
   ]
  },
  {
   "cell_type": "raw",
   "metadata": {},
   "source": [
    "\n",
    "\n",
    "\n",
    "\n",
    "\n"
   ]
  },
  {
   "cell_type": "code",
   "execution_count": 27,
   "metadata": {},
   "outputs": [
    {
     "name": "stdout",
     "output_type": "stream",
     "text": [
      "77.5\n"
     ]
    }
   ],
   "source": [
    "\"\"\"Use the sampleDict and build program finding minumum value and adding it to the value which is greater than 66.\n",
    " Right after that take avarage of the result. (if the element in the sampleDict is greater than 66 then sum it up \n",
    " with minimum value in the dictionary and take avarage)\n",
    "sampleDict = {'Physics1': 82,'Physics2': 70,'Math1': 65,'Math2': 72,'history1': 75,'history2': 90}\"\"\"\n",
    "sampleDict = {'Physics1': 82,'Physics2': 70,'Math1': 65,'Math2': 72,'history1': 75,'history2': 90}\n",
    "a = min(sampleDict)\n",
    "c = 0\n",
    "for i in sampleDict:\n",
    "    if sampleDict[i]>66:\n",
    "        c=(sampleDict.get(i)+sampleDict[a])/2\n",
    "print(c)"
   ]
  },
  {
   "cell_type": "markdown",
   "metadata": {},
   "source": [
    "# 7- QUESTION:"
   ]
  },
  {
   "cell_type": "raw",
   "metadata": {},
   "source": [
    "\n",
    "\"\"\"Given a Python dictionary, Change Brad’s salary to 8500\n",
    "sampleDict = {\n",
    "     'emp1': {'name': 'Jhon', 'salary': 7500},\n",
    "     'emp2': {'name': 'Emma', 'salary': 8000},\n",
    "     'emp3': {'name': 'Brad', 'salary': 6500}\n",
    "}\"\"\""
   ]
  },
  {
   "cell_type": "code",
   "execution_count": 28,
   "metadata": {},
   "outputs": [
    {
     "name": "stdout",
     "output_type": "stream",
     "text": [
      "{'emp1': {'name': 'Jhon', 'salary': 7500}, 'emp2': {'name': 'Emma', 'salary': 8000}, 'emp3': {'name': 'Brad', 'salary': 8500}}\n"
     ]
    }
   ],
   "source": [
    "\n",
    "\"\"\"Given a Python dictionary, Change Brad’s salary to 8500\n",
    "sampleDict = {'emp1': {'name': 'Jhon', 'salary': 7500},'emp2': {'name': 'Emma', 'salary': 8000},\n",
    "     'emp3': {'name': 'Brad', 'salary': 6500}}\"\"\"\n",
    "sampleDict = {\n",
    "     'emp1': {'name': 'Jhon', 'salary': 7500},\n",
    "     'emp2': {'name': 'Emma', 'salary': 8000},\n",
    "     'emp3': {'name': 'Brad', 'salary': 6500}\n",
    "}\n",
    "sampleDict['emp3']['salary'] = 8500\n",
    "print(sampleDict)"
   ]
  },
  {
   "cell_type": "markdown",
   "metadata": {},
   "source": [
    "# 8- QUESTION:"
   ]
  },
  {
   "cell_type": "code",
   "execution_count": 29,
   "metadata": {},
   "outputs": [
    {
     "name": "stdout",
     "output_type": "stream",
     "text": [
      "True\n"
     ]
    }
   ],
   "source": [
    "\"\"\"Check if a value 200 exists in a dictionary\n",
    "sampleDict = {'a': 100, 'b': 200, 'c': 300}\n",
    "Expected Output : True\"\"\"\n",
    "sampleDict = {'a': 100, 'b': 200, 'c': 300}\n",
    "print(200 in sampleDict.values())"
   ]
  },
  {
   "cell_type": "markdown",
   "metadata": {},
   "source": [
    "# 9- QUESTION:"
   ]
  },
  {
   "cell_type": "code",
   "execution_count": 34,
   "metadata": {},
   "outputs": [
    {
     "name": "stdout",
     "output_type": "stream",
     "text": [
      "{'a': 2, 'b': 4, 'c': 6, 'd': 8, 'e': 10}\n",
      "{'a': 2, 'b': 4, 'c': 6, 'd': 8, 'e': 10}\n"
     ]
    }
   ],
   "source": [
    "\"\"\"Each value in the dict1 should be multiplied with 2. Please, try to use dict comprehension to do it.\n",
    "input:\n",
    "dict1 = {'a': 1, 'b': 2, 'c': 3, 'd': 4, 'e': 5}\n",
    "Output: \n",
    "{'a': 2, 'b': 4, 'c': 6, 'd': 8, 'e': 10}\n",
    "Dictionary comprehension Syntax:\n",
    "The minimal syntax for dictionary comprehension is\n",
    "dictionary = {key: value for vars in iterable}\n",
    "square_dict = {num: num*num for num in range(1, 11)}\n",
    "New_Dict = {key:value for list in iterable if condition}\n",
    "New_Dict={num: num*num for num in range(1, 11) if num%2==0}\"\"\"\n",
    "\n",
    "#dict_variable = {key:value for (key,value) in dictonary.items()}\n",
    "#Dict comprehension syntax\n",
    "dict1 = {'a': 1, 'b': 2, 'c': 3, 'd': 4, 'e': 5}\n",
    "# Double each value in the dictionary\n",
    "double_dict1 = {k:v*2 for (k,v) in dict1.items()}\n",
    "print(double_dict1)\n",
    "\n",
    "#2nd way\n",
    "dict1 = {'a': 1, 'b': 2, 'c': 3, 'd': 4, 'e': 5}\n",
    "d ={}\n",
    "for k,v in dict1.items():\n",
    "    d[k]=v*2\n",
    "print(d)"
   ]
  },
  {
   "cell_type": "markdown",
   "metadata": {},
   "source": [
    "# 10- QUESTION:"
   ]
  },
  {
   "cell_type": "code",
   "execution_count": 42,
   "metadata": {},
   "outputs": [
    {
     "name": "stdout",
     "output_type": "stream",
     "text": [
      "{0: 0, 2: 4, 4: 16, 6: 36, 8: 64}\n",
      "{0: 0, 2: 4, 4: 16, 6: 36, 8: 64}\n"
     ]
    }
   ],
   "source": [
    "\"\"\"Create a new dictionary where the key is a number divisible by 2 in a range of 0-10 and it's value is the square of the\n",
    "number.\"\"\"\n",
    "new_dict_for = {}\n",
    "# Add values to `new_dict` using for loop\n",
    "for n in range(10):\n",
    "    if n%2==0:\n",
    "        new_dict_for[n] = n**2\n",
    "\n",
    "print(new_dict_for)\n",
    "#2nd way(dict comprehension)\n",
    "new_dict_comp = {n:n**2 for n in range(10) if n%2 == 0}\n",
    "print(new_dict_comp)"
   ]
  },
  {
   "cell_type": "markdown",
   "metadata": {},
   "source": [
    "# 11- QUESTION : "
   ]
  },
  {
   "cell_type": "code",
   "execution_count": 43,
   "metadata": {},
   "outputs": [
    {
     "name": "stdout",
     "output_type": "stream",
     "text": [
      "{'t1': -34.44444444444444, 't2': -28.88888888888889, 't3': -23.333333333333336, 't4': -17.77777777777778}\n"
     ]
    }
   ],
   "source": [
    "\"\"\"Convert the Fahrenheit  degrees to Celsius  degrees . You need to use the method to convert fahreneit to celcius as\n",
    "Deduct 32, then multiply by 5, then divide by 9\n",
    "Input: fahrenheit = {'t1': -30,'t2': -20,'t3': -10,'t4': 0}\n",
    "Output:  Celcius= {'t1':-34.44444444444444,'t2':-28.88888888888889,'t3':-23.333333333333336,'t4':-17.77777777777778}\"\"\"\n",
    "# Initialize the `fahrenheit` dictionary \n",
    "fahrenheit = {'t1': -30,'t2': -20,'t3': -10,'t4': 0}\n",
    "# Get the corresponding `celsius` values and create the new dictionary\n",
    "celsius = {k:(v-32)*(5/9) for (k,v) in fahrenheit.items()}\n",
    "print(celsius)"
   ]
  },
  {
   "cell_type": "markdown",
   "metadata": {},
   "source": [
    "# 12- QUESTION:"
   ]
  },
  {
   "cell_type": "code",
   "execution_count": 44,
   "metadata": {},
   "outputs": [
    {
     "data": {
      "text/plain": [
       "{'c': 3, 'd': 4, 'e': 5}"
      ]
     },
     "execution_count": 44,
     "metadata": {},
     "output_type": "execute_result"
    }
   ],
   "source": [
    "\"\"\"Use dictionary comprehensions and print out the values if they are greater than 2.\n",
    "Input:my_dict = {'a': 1, 'b': 2, 'c': 3, 'd': 4, 'e': 5}\n",
    "Output :{'c': 3, 'd': 4, 'e': 5}\"\"\"\n",
    "my_dict = {'a': 1, 'b': 2, 'c': 3, 'd': 4, 'e': 5}\n",
    "new_dict = {key: val for key, val in my_dict.items() if val > 2}\n",
    "new_dict"
   ]
  },
  {
   "cell_type": "markdown",
   "metadata": {},
   "source": [
    "# 13- QUESTION:"
   ]
  },
  {
   "cell_type": "code",
   "execution_count": 47,
   "metadata": {},
   "outputs": [
    {
     "name": "stdout",
     "output_type": "stream",
     "text": [
      "{'c': 3, 'e': 5}\n"
     ]
    }
   ],
   "source": [
    "\"\"\"Use dictionary comprehension and find the if the values are greater than 2 and filter out any key-value pairs that\n",
    " have a key of 'd'\n",
    "Input:my_dict = {'a': 1, 'b': 2, 'c': 3, 'd': 4, 'e': 5}\n",
    "Output:{'c': 3, 'e': 5}\"\"\"\n",
    "new_dict = {key: val for key, val in my_dict.items() if val > 2 if key != 'd'}\n",
    "print(new_dict)"
   ]
  },
  {
   "cell_type": "markdown",
   "metadata": {},
   "source": [
    "# 14 - QUESTION:"
   ]
  },
  {
   "cell_type": "code",
   "execution_count": 49,
   "metadata": {},
   "outputs": [
    {
     "name": "stdout",
     "output_type": "stream",
     "text": [
      "{'a': 21, 'b': 22, 'c': 23, 'd': 14, 'e': 15}\n"
     ]
    }
   ],
   "source": [
    "\"\"\"Use dictionary comprehension and write a program if the value in dictionary is greater than 3,\n",
    "add 10 to the value.Otherwise, add 20 to the values.\n",
    "Input:my_dict = {'a': 1, 'b': 2, 'c': 3, 'd': 4, 'e': 5}\n",
    "Output:{'a': 21, 'b': 22, 'c': 23, 'd': 14, 'e': 15}\"\"\"\n",
    "my_dict = {'a': 1, 'b': 2, 'c': 3, 'd': 4, 'e': 5}\n",
    "new_dict = {key: (val + 10 if val > 3 else val + 20 ) for key, val in my_dict.items()}\n",
    "print(new_dict)"
   ]
  },
  {
   "cell_type": "markdown",
   "metadata": {},
   "source": [
    "# 15- QUESTION:"
   ]
  },
  {
   "cell_type": "code",
   "execution_count": 52,
   "metadata": {},
   "outputs": [
    {
     "name": "stdout",
     "output_type": "stream",
     "text": [
      "{'jack': 'young', 'michael': 'old', 'guido': 'old', 'john': 'young'}\n"
     ]
    }
   ],
   "source": [
    "\"\"\"Use the sample dictionary below and create a program to find out if person is greater than 40 return 'old' otherwise,\n",
    " return 'young'. \n",
    "Input:original_dict = {'jack': 38, 'michael': 48, 'guido': 57, 'john': 33}\n",
    "Expected Output:{'jack': 'young', 'michael': 'old', 'guido': 'old', 'john': 'young'}\"\"\"\n",
    "original_dict = {'jack': 38, 'michael': 48, 'guido': 57, 'john': 33}\n",
    "new_dict_1 = {k: ('old' if v > 40 else 'young') for (k, v) in original_dict.items()}\n",
    "print(new_dict_1)"
   ]
  },
  {
   "cell_type": "markdown",
   "metadata": {},
   "source": [
    "# 16- QUESTION:"
   ]
  },
  {
   "cell_type": "code",
   "execution_count": 55,
   "metadata": {},
   "outputs": [
    {
     "name": "stdout",
     "output_type": "stream",
     "text": [
      "{122: 'alex', 233: 'bob', 353: 'can', 456: 'don'}\n"
     ]
    }
   ],
   "source": [
    "\"\"\"Build python program to run for the college’s data base and uses simple merging. Imagine that there is a college’s\n",
    " database storing lots of data.  Database below shows the list numbers and list of names. Create a new dictionary which\n",
    "  stores all numbers corresponding student name. Hint: Use zip function and dictionary comprehension\n",
    "Numbers =[122,233,353,456,223,345]\n",
    "names = ['alex','bob','can', 'don','xmen','smith'] \n",
    "Expected Output:{122: 'alex', 233: 'bob', 353: 'can', 456: 'don'}\"\"\"\n",
    "Numbers =[122,233,353,456]\n",
    "names = ['alex','bob','can', 'don'] \n",
    "NewDictionary={ i:j for (i,j) in zip (Numbers,names)}\n",
    "print(NewDictionary)"
   ]
  },
  {
   "cell_type": "markdown",
   "metadata": {},
   "source": [
    "# 17- QUESTION:"
   ]
  },
  {
   "cell_type": "code",
   "execution_count": 56,
   "metadata": {},
   "outputs": [
    {
     "name": "stdout",
     "output_type": "stream",
     "text": [
      "I do not have birthday information for Shubro\n",
      "What is their birthday?\n",
      "Birthday database updated.\n",
      "June 15 is the birthday of Shubro\n"
     ]
    }
   ],
   "source": [
    "\"\"\"Here is the list of people birthday. Lets create a Python program that when \n",
    "user asked for the name, the program replies with the birthdate, if the birthdate\n",
    "is not in the database, then the program add it to the database right after \n",
    "user enters.\n",
    "birthdays = {'Alice': 'Apr 1', 'Bob': 'Dec 13', 'Carol': 'Mar 5'}\"\"\"\n",
    "birthdays = {'Alice': 'Apr 1', 'Bob': 'Dec 13', 'Carol': 'Mar 5'}\n",
    "while True:\n",
    "    name = input('Enter a name: (quit for quit)')\n",
    "    if name == 'quit':\n",
    "        break\n",
    "    if name in birthdays:\n",
    "        print(birthdays[name] + ' is the birthday of ' + name)\n",
    "    else:\n",
    "        print('I do not have birthday information for ' + name)\n",
    "        print('What is their birthday?')\n",
    "        bday = input()\n",
    "        birthdays[name] = bday\n",
    "        print('Birthday database updated.')"
   ]
  },
  {
   "cell_type": "markdown",
   "metadata": {},
   "source": [
    "# 18- QUESTION:"
   ]
  },
  {
   "cell_type": "code",
   "execution_count": 58,
   "metadata": {},
   "outputs": [
    {
     "name": "stdout",
     "output_type": "stream",
     "text": [
      "{'I': 1, 't': 7, ' ': 17, 'w': 2, 'a': 9, 's': 2, 'b': 1, 'r': 2, 'i': 3, 'g': 1, 'h': 2, 'c': 1, 'o': 4, 'l': 1, 'd': 5, 'y': 3, 'n': 5, 'M': 1, ',': 1, 'e': 6, 'm': 1, 'u': 2, 'q': 1, '.': 1}\n"
     ]
    }
   ],
   "source": [
    "\"\"\"Count the each character in message and return as dictionary output like in expected output.\n",
    "Input:message = 'It was a bright sunday in May, and we needed to stay at home due to quarantine.'\n",
    "Expected Output:{'I': 1, 't': 7, ' ': 17, 'w': 2, 'a': 9, 's': 2, 'b': 1, 'r': 2, 'i': 3, 'g': 1, 'h': 2, 'c': 1, 'o': 4,\n",
    " 'l': 1, 'd': 5, 'y': 3, 'n': 5, 'M': 1, ',': 1, 'e': 6, 'm': 1, 'u': 2, 'q': 1, '.': 1}\"\"\"\n",
    "message = 'It was a bright cold day in May, and we need to stay at home due to quarantine.'\n",
    "count = {}#There is no character here. Every character here starts with 0\n",
    "for character in message:\n",
    "    count.setdefault(character, 0)#each default carakter here is 0\n",
    "    count[character] +=1#we are adding 1 for number of carachter there is \n",
    "print(count)"
   ]
  },
  {
   "cell_type": "markdown",
   "metadata": {},
   "source": [
    "# 19- QUESTION:"
   ]
  },
  {
   "cell_type": "code",
   "execution_count": 60,
   "metadata": {},
   "outputs": [
    {
     "data": {
      "text/plain": [
       "['S005', 'S009', 'S007', 'S002', 'S001']"
      ]
     },
     "execution_count": 60,
     "metadata": {},
     "output_type": "execute_result"
    }
   ],
   "source": [
    "\"\"\"Write a Python program to print all unique values in a dictionary.\n",
    "Sample Data : [{\"V\":\"S001\"}, {\"V\": \"S002\"}, {\"VI\": \"S001\"}, {\"VI\": \"S005\"}, {\"VII\":\"S005\"}, {\"V\":\"S009\"},{\"VIII\":\"S007\"}]\n",
    "Python | Get Unique values from list of dictionary\n",
    "Sometimes, while working with Python dictionaries, we can have a problem in which we need to find the unique values over\n",
    " all the dictionaries in a list. This kind of utility can occur in case while working with similar data and we wish to \n",
    " xtract the unique ones. Let’s discuss certain ways in which this task can be performed.\n",
    "\n",
    "Method #1 : Using set() + values() + dictionary comprehension\n",
    "The combination of these methods can together help us achieve the task of getting the unique values. The values function\n",
    " helps us get the values of dictionary, set helps us to get the unique of them, and dictionary comprehension to iterate \n",
    " through the list.\"\"\"\n",
    "data =  [{\"V\":\"S001\"}, {\"V\": \"S002\"}, {\"VI\": \"S001\"}, {\"VI\": \"S005\"}, {\"VII\":\"S005\"}, {\"V\":\"S009\"},{\"VIII\":\"S007\"}]\n",
    "x = [val for dic in data for val in dic.values() ]\n",
    "list(set(x))\n",
    "\n",
    "#A set is a collection which is unordered and unindexed. In Python sets are written with curly brackets."
   ]
  },
  {
   "cell_type": "markdown",
   "metadata": {},
   "source": [
    "# 20- QUESTION:"
   ]
  },
  {
   "cell_type": "code",
   "execution_count": 61,
   "metadata": {},
   "outputs": [
    {
     "name": "stdout",
     "output_type": "stream",
     "text": [
      "{'shubro': 2}\n"
     ]
    }
   ],
   "source": [
    "\"\"\"Write a program that repeatedly asks the user to enter a word and create a dictionary whose keys are\n",
    "those words and whose values are counts of how many vowels are in the words. The user indicates\n",
    "they are done by pressing enter without entering anything (the input will therefore be an empty\n",
    "string). Print out the dictionary after it is done being created.\"\"\"\n",
    "#Dictionary from user entered words, where keys are how many vowels in that word.\n",
    "# repeatedly asks the user to enter a word\n",
    "# keys=words, values=count of vowels\n",
    "# '' for break\n",
    "# print dict as output\n",
    "d = {}\n",
    "while True:\n",
    "    s = input('Enter a word : ')\n",
    "    if s =='':\n",
    "        break\n",
    "    else:\n",
    "        d[s] = sum(s.count(c) for c in 'aeiou')\n",
    "print(d)"
   ]
  },
  {
   "cell_type": "markdown",
   "metadata": {},
   "source": [
    "# 21- QUESTION:"
   ]
  },
  {
   "cell_type": "code",
   "execution_count": 62,
   "metadata": {},
   "outputs": [
    {
     "name": "stdout",
     "output_type": "stream",
     "text": [
      "Invalid date.\n"
     ]
    }
   ],
   "source": [
    "\"\"\"Write a program that asks the user to enter a date in the format of a month name followed by a day number. The program\n",
    " should print out whether the date is real. For instance, January 32 is not a real date, and neither is February 30. \n",
    " Assume that the user enters the full month name and that the month name is valid. To validate the day number, use a \n",
    " dictionary that contains the number of days in each month.\"\"\"\n",
    "# Determine if a date is valid.\n",
    "d = {'january':31, 'february':29, 'march':31, 'april':30,\n",
    "     'may':31, 'june':30, 'july':31, 'august':30,\n",
    "     'september':30, 'october':31, 'november':30, 'december':31}\n",
    "s = input('Enter a date: ')\n",
    "L = s.split()\n",
    "month = L[0].lower()\n",
    "day = int(L[1])\n",
    "if not (1 <= day <= d[month]):\n",
    "    print('Invalid date.')\n",
    "else:\n",
    "    print('Seems okay.')"
   ]
  },
  {
   "cell_type": "markdown",
   "metadata": {},
   "source": [
    "# 22- QUESTION:"
   ]
  },
  {
   "cell_type": "code",
   "execution_count": 66,
   "metadata": {},
   "outputs": [
    {
     "name": "stdout",
     "output_type": "stream",
     "text": [
      "Wrong.\n",
      "Wrong.\n",
      "Wrong.\n",
      "Wrong.\n",
      "Wrong.\n"
     ]
    }
   ],
   "source": [
    "\"\"\"Write a program that creates a dictionary whose keys are questions and whose corresponding values are answers to those\n",
    " questions. Then use that dictionary to play a simple quiz game, where the quiz questions are given in a random order.\n",
    "  For each question, ask the player for an answer and tell them whether they got it right or not.\"\"\"\n",
    "#Create quiz using a dictionary whose keys are questions and whose values are their answers.\n",
    "# from random import shuffle\n",
    "d = {'What is the capital of Turkey?': 'Istanbul',\n",
    "     'What is the luckiest number?': '1',\n",
    "     'What one of habits will improve your life? ': 'Learning',\n",
    "     'What does m stand for in Newton\\'s second law equation F=ma?' : 'mass',\n",
    "     'For what in your life do you feel most grateful? ': 'Health'}\n",
    "keys = list(d.keys())\n",
    "# shuffle(keys)\n",
    "for k in keys:\n",
    "    guess = input(k)\n",
    "    if guess.lower() == d[k].lower():\n",
    "        print('Right!')\n",
    "    else:\n",
    "        print('Wrong.')"
   ]
  },
  {
   "cell_type": "markdown",
   "metadata": {},
   "source": [
    "# 23- QUESTION:"
   ]
  },
  {
   "cell_type": "code",
   "execution_count": 67,
   "metadata": {},
   "outputs": [
    {
     "name": "stdout",
     "output_type": "stream",
     "text": [
      "0\n",
      "{'0': '23', '1': '25'}\n"
     ]
    }
   ],
   "source": [
    "\"\"\"One use for dictionaries is something called a sparse array. These are arrays (lists) of numbers, where most of the\n",
    " entries are 0. To use a regular list when most of the entries are 0 would waste space. So instead we store only those \n",
    " values that are not 0 and we use a dictionary to do so. The keys are the list indices and the values are the values at \n",
    " that index. For instance, the list [0,0,27,0,0,0,0,15,0,0,...]\n",
    "would be stored with the dictionary {2:27,7:15}. Write a program that asks the user the indices\n",
    "and values to store in the sparse array at those indices. User stops the program by by pressing enter without entering \n",
    "anything. Then ask them to enter a index and\n",
    "print out the value at that index (which will be either a value from the dictionary or 0 if the index is not a key in the\n",
    " dictionary).\"\"\"\n",
    "# Sparse array\n",
    "d = {}        \n",
    "while True:\n",
    "    x = input('Enter index: ')\n",
    "    y = input('Enter value: ')\n",
    "    if x== '' and y=='':\n",
    "        break\n",
    "    else:\n",
    "        d[x] = y\n",
    "x = eval(input('Enter index to check: '))\n",
    "if x in d:\n",
    "    print(d[x])\n",
    "else:\n",
    "    print(0)    \n",
    "print(d)       \n"
   ]
  },
  {
   "cell_type": "markdown",
   "metadata": {},
   "source": [
    "# 24- QUESTION:"
   ]
  },
  {
   "cell_type": "code",
   "execution_count": 69,
   "metadata": {},
   "outputs": [
    {
     "name": "stdout",
     "output_type": "stream",
     "text": [
      "e {'a': 'j', 'b': 'g', 'c': 'p', 'd': 't', 'e': 'e', 'f': 'z', 'g': 'b', 'h': 'x', 'i': 'y', 'j': 'a', 'k': 'l', 'l': 'm', 'm': 'd', 'n': 'n', 'o': 'v', 'p': 'c', 'q': 'w', 'r': 'u', 's': 'f', 't': 'o', 'u': 'i', 'v': 's', 'w': 'q', 'x': 'r', 'y': 'h', 'z': 'k'}\n",
      "d {'j': 'a', 'g': 'b', 'p': 'c', 't': 'd', 'e': 'e', 'z': 'f', 'b': 'g', 'x': 'h', 'y': 'i', 'a': 'j', 'l': 'k', 'm': 'l', 'd': 'm', 'n': 'n', 'v': 'o', 'c': 'p', 'w': 'q', 'u': 'r', 'f': 's', 'o': 't', 'i': 'u', 's': 'v', 'q': 'w', 'r': 'x', 'h': 'y', 'k': 'z'}\n",
      "jgptezbxyalmdnvcwufoisqrhk\n",
      "Encrypted: xemmv\n",
      "Decrypted: hello\n"
     ]
    }
   ],
   "source": [
    "\"\"\"The substitution cipher is a simple way of encrypting a message, where each a is replaced with a\n",
    "certain letter, say f, each b is replaced with a certain letter, say i. The key for the cipher is a string indicating the replacements. For instance, fiepltdkjbsuywqxanczrmvhg says that each a is replaces\n",
    "with f, each b is replaced with i, each c is replaced with e, etc. We can generate a key by shuffling\n",
    "the letters of the alphabet. Then given a word, we can encode it with the substitution cipher using a\n",
    "dictionary whose keys are the letters of the alphabet and whose values are the letters they are mapped\n",
    "to in the key. A similar, but reversed, dictionary can be used for decryption.\n",
    "Write program that generates and prints a random key and uses that key to create a dictionary like\n",
    "the one described above. Then ask the user for a lowercase word. Encrypt and then decrypt that word\n",
    "using the substitution cipher dictionary and print out the encrypted and decrypted result.\n",
    "Expected Output: Decryted would be different for the same word\n",
    "    Encrypted:ktxxw\n",
    "    Decrypted:Hello\"\"\"\n",
    "\"\"\"A cipher uses a system of fixed rules -- an algorithm -- to transform plaintext, a legible message, into ciphertext, \n",
    "an apparently random string of characters\n",
    "A cipher is a secret code, usually one that's created using a mathematical algorithm. Sometimes the message written in code is itself called a cipher. ... From its \"zero\" meaning, cipher can also be used for a person who has no influence or importance in the world.\n",
    "    #Encrypted:ktxxw\n",
    "    #Decrypted:Hello\"\"\"\n",
    "from random import shuffle\n",
    "alphabet = 'abcdefghijklmnopqrstuvwxyz'\n",
    "L = list(alphabet)\n",
    "shuffle(L)\n",
    "key = ''.join(L)\n",
    "encrypt = {}\n",
    "decrypt = {}\n",
    "for i in range(len(alphabet)):\n",
    "    encrypt[alphabet[i]] = key[i]\n",
    "    decrypt[key[i]] = alphabet[i]\n",
    "print('e',encrypt)\n",
    "print('d',decrypt)\n",
    "print(key)    \n",
    "s = input('Enter a  word: ').lower()\n",
    "t = ''\n",
    "for c in s:\n",
    "    t += encrypt[c]\n",
    "print('Encrypted:', t)\n",
    "u = ''\n",
    "for c in t:\n",
    "    u += decrypt[c]\n",
    "print('Decrypted:', u)\n"
   ]
  },
  {
   "cell_type": "markdown",
   "metadata": {},
   "source": [
    "# 25- QUESTION:"
   ]
  },
  {
   "cell_type": "code",
   "execution_count": 70,
   "metadata": {},
   "outputs": [
    {
     "name": "stdout",
     "output_type": "stream",
     "text": [
      "UPPER CASE 1\n",
      "LOWER CASE 9\n"
     ]
    }
   ],
   "source": [
    "\"\"\"Write a program that accepts a sentence and calculate the number of upper case letters and lower case letters.\n",
    "Suppose the following input is supplied to the program:\n",
    "Hello world!\n",
    "Then, the output should be:\n",
    "UPPER CASE 1\n",
    "LOWER CASE 9\"\"\"\n",
    "s = input()\n",
    "d = {\"UPPER CASE\":0, \"LOWER CASE\":0}\n",
    "for c in s:\n",
    "    if c.isupper():\n",
    "        d[\"UPPER CASE\"]+=1\n",
    "    elif c.islower():\n",
    "        d[\"LOWER CASE\"]+=1\n",
    "    else:\n",
    "        pass\n",
    "print(\"UPPER CASE\", d[\"UPPER CASE\"])\n",
    "print(\"LOWER CASE\", d[\"LOWER CASE\"])"
   ]
  }
 ],
 "metadata": {
  "kernelspec": {
   "display_name": "Python 3",
   "language": "python",
   "name": "python3"
  },
  "language_info": {
   "codemirror_mode": {
    "name": "ipython",
    "version": 3
   },
   "file_extension": ".py",
   "mimetype": "text/x-python",
   "name": "python",
   "nbconvert_exporter": "python",
   "pygments_lexer": "ipython3",
   "version": "3.9.10"
  }
 },
 "nbformat": 4,
 "nbformat_minor": 2
}
