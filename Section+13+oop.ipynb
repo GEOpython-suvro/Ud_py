{
 "cells": [
  {
   "cell_type": "markdown",
   "metadata": {},
   "source": [
    "# 1- QUESTION:"
   ]
  },
  {
   "cell_type": "code",
   "execution_count": 1,
   "metadata": {},
   "outputs": [
    {
     "name": "stdout",
     "output_type": "stream",
     "text": [
      "1030.0\n",
      "1050.6\n"
     ]
    }
   ],
   "source": [
    "\"\"\"Write a class called BankAccount that has the following:\n",
    "    • A field called name that stores the name of the account holder.\n",
    "    • A field called amount that stores the amount of money in the account.\n",
    "    • A field called interest_rate that stores the account’s interest rate (as a percentage).\n",
    "    • A constructor that just sets the values of the three fields above.\n",
    "    • A method called apply_interest() that takes no arguments and applies the interest to the\n",
    "account. It should just modify the amount field and not return anything. For instance, if the account has $1000 in it and the interest rate is 3%, then the amount variable should be changed\n",
    "to $1030 ($1000 + 3% interest). Then test the class, by creating a new BankAccount object for a user named Juan De Hattatime who\n",
    "has $1000 at 3% interest. Then do the following:\n",
    "    • Use the apply_interest() method to apply the interest to the account.\n",
    "    • Print out how much money is now in the account after applying the interest.\n",
    "    • Change the account’s interest rate to 2%.\n",
    "    • Use the apply_interest() method to apply the interest to the account again.\n",
    "    • Print out how much money is now in the account after applying the interest again.\"\"\"\n",
    "#BankAccount\n",
    "class BankAccount:\n",
    "    def __init__(self, name, amount, interest_rate):\n",
    "        self.name = name\n",
    "        self.amount = amount\n",
    "        self.interest_rate = interest_rate\n",
    "\n",
    "    def apply_interest(self):\n",
    "        self.amount *= (1 + self.interest_rate / 100)\n",
    "\n",
    "account = BankAccount('Juan De Hattatime', 1000, 3)\n",
    "account.apply_interest()\n",
    "print(account.amount)\n",
    "account.interest_rate = 2\n",
    "account.apply_interest()\n",
    "print(account.amount)"
   ]
  },
  {
   "cell_type": "markdown",
   "metadata": {},
   "source": [
    "# 2- QUESTION:"
   ]
  },
  {
   "cell_type": "code",
   "execution_count": 2,
   "metadata": {},
   "outputs": [
    {
     "name": "stdout",
     "output_type": "stream",
     "text": [
      "hat, 12.40\n"
     ]
    }
   ],
   "source": [
    "\"\"\"Write a class called Item that represents an item for sale. It should have the following:\n",
    "    • Fields representing the name and price of the item\n",
    "    • A constructor that sets those fields,\n",
    "    • A __str__() method that returns a string containing the item name and price, with the price\n",
    "    formatted to exactly 2 decimal places\n",
    "Test the class by creating a new item object and printing it out.\"\"\"\n",
    "#Item\n",
    "class Item:\n",
    "    def __init__(self, name, price):\n",
    "        self.name = name\n",
    "        self.price = price\n",
    "\n",
    "    def __str__(self):\n",
    "          return '{:s}, {:.2f}'.format(self.name, self.price) \n",
    "\n",
    "\n",
    "item = Item('hat', 12.40)\n",
    "print(item)"
   ]
  },
  {
   "cell_type": "code",
   "execution_count": 3,
   "metadata": {},
   "outputs": [
    {
     "name": "stdout",
     "output_type": "stream",
     "text": [
      "hat, 12.40\n"
     ]
    }
   ],
   "source": [
    "#Item\n",
    "class Item2:\n",
    "    def __init__(self, name, price):\n",
    "        self.name = name\n",
    "        self.price = price\n",
    "\n",
    "    def __repr__(self):\n",
    "        return '{:s}, {:.2f}'.format(self.name, self.price)\n",
    "\n",
    "item2 = Item2('hat', 12.40)\n",
    "print(item2)"
   ]
  },
  {
   "cell_type": "markdown",
   "metadata": {},
   "source": [
    "# 3- QUESTION:"
   ]
  },
  {
   "cell_type": "code",
   "execution_count": 4,
   "metadata": {},
   "outputs": [
    {
     "name": "stdout",
     "output_type": "stream",
     "text": [
      "shirt, 18.99\n",
      "shirt, 22.59\n",
      "car, 22400.00\n",
      "lettuce, 1.49\n",
      "car, 22400.00\n",
      "lettuce, 1.49\n"
     ]
    }
   ],
   "source": [
    "\"\"\"Write a class called ShoppingCart that might be used in an online store. It should have the following:\n",
    "    • A list of Item objects that represents the items in the shopping cart\n",
    "    • A constructor that creates an empty list of items (the constructor should take no arguments except\n",
    "    self)\n",
    "    • A method called add() that takes a name and a price and adds an Item object with that name\n",
    "    and price to the shopping cart\n",
    "    • A method called total() that takes no arguments and returns the total cost of the items in the\n",
    "    cart\n",
    "    • A method called remove_items() that takes an item name (a string) and removes any Item\n",
    "    objects with that name from the shopping cart. It shouldn’t return anything.\n",
    "    • A __str__() method that returns a string containing info on all the items in the shopping cart\n",
    "Then test out the shopping cart as follows: (1) create a shopping cart; (2) add several items to it; (3)\n",
    "print the cart’s total cost (using the total() method); (4) remove one of the items types; (5) print out\n",
    "the cart.\"\"\"\n",
    "# ShoppingCart\n",
    "class ShoppingCart:\n",
    "    def __init__(self):\n",
    "        self.items = []\n",
    "\n",
    "    def add(self, item):\n",
    "        self.items.append(item)\n",
    "\n",
    "    def total(self):\n",
    "        return sum(item.price for item in self.items)\n",
    "\n",
    "    def remove_items(self, name):\n",
    "        self.items = [item for item in self.items if item.name != name]\n",
    "        \n",
    "    def __str__(self):\n",
    "        return '\\n'.join(str(item) for item in self.items)\n",
    "        \n",
    "cart = ShoppingCart()\n",
    "cart.add(Item('shirt', 18.99))\n",
    "cart.add(Item('shirt', 22.59))\n",
    "cart.add(Item('car', 22400))\n",
    "cart.add(Item('lettuce', 1.49))\n",
    "print(cart)\n",
    "cart.remove_items('shirt')\n",
    "print(cart)"
   ]
  },
  {
   "cell_type": "code",
   "execution_count": 5,
   "metadata": {},
   "outputs": [
    {
     "data": {
      "text/plain": [
       "22404.49"
      ]
     },
     "execution_count": 5,
     "metadata": {},
     "output_type": "execute_result"
    }
   ],
   "source": [
    "x_list = [['shirt',3],['car', 22400],['lettuce', 1.49]]\n",
    "sum(item[1] for item in x_list)"
   ]
  },
  {
   "cell_type": "markdown",
   "metadata": {},
   "source": [
    "# 4- QUESTION:"
   ]
  },
  {
   "cell_type": "code",
   "execution_count": 7,
   "metadata": {},
   "outputs": [],
   "source": [
    "\"\"\"Write a class called RestaurantCheck. It should have the following:\n",
    "    • Fields called check_number, sales_tax_percent, subtotal, table_number, and server_name\n",
    "    representing an identification for the check, the bill without tax added, the sales tax percentage,\n",
    "    the table number, and the name of the server.\n",
    "    • A method called calculate_total that takes no arguments (besides self) and returns the total\n",
    "    bill including sales tax.\n",
    "    • A method called print_check that writes to a file called check###.txt, where ### is the check\n",
    "    number and writes information about the check to that file, formatted like below:\n",
    "Check Number: 443\n",
    "Sales tax: 6.0%\n",
    "Subtotal: $23.14\n",
    "Total: $24.53\n",
    "Table Number: 17\n",
    "Server: Sonic the Hedgehog\n",
    "Test the class by creating a RestaurantCheck object and calling the print_check() method.\"\"\"\n",
    "# RestaurantCheck\n",
    "class RestaurantCheck:\n",
    "    def __init__(self, check_number, sales_tax_percent, subtotal, table_number, server_name):\n",
    "        self.check_number = check_number\n",
    "        self.sales_tax_percent = sales_tax_percent\n",
    "        self.subtotal = subtotal\n",
    "        self.table_number = table_number\n",
    "        self.server_name = server_name\n",
    "\n",
    "    def calculate_total(self):\n",
    "        return self.subtotal * (1+self.sales_tax_percent/100)\n",
    "\n",
    "    def print_check(self):\n",
    "        output_file = open('check' + str(self.check_number) + '.txt', 'w')\n",
    "        print('Check Number:', self.check_number, file=output_file)\n",
    "        print('Sales tax: ', self.sales_tax_percent, '%', sep='', file=output_file)\n",
    "        print('Subtotal: {:.2f}'.format(self.subtotal), file=output_file)\n",
    "        print('Total: {:.2f}'.format(self.calculate_total()), file=output_file)\n",
    "        print('Table Number:', self.table_number, file=output_file)\n",
    "        print('Server:', self.server_name, file=output_file)\n",
    "        output_file.close()\n",
    "\n",
    "check = RestaurantCheck(443, 6, 23.14, 'Sonic the Hedgehog', 17)\n",
    "check.print_check()\n"
   ]
  },
  {
   "cell_type": "markdown",
   "metadata": {},
   "source": [
    "# 5- QUESTION:"
   ]
  },
  {
   "cell_type": "code",
   "execution_count": 8,
   "metadata": {},
   "outputs": [
    {
     "name": "stdout",
     "output_type": "stream",
     "text": [
      "Ticket(49.99, 19:00)\n",
      "True\n",
      "20\n"
     ]
    }
   ],
   "source": [
    "\n",
    "\"\"\"Write a class called Ticket that has the following:\n",
    "    • A field cost for the price of the ticket and a string field time for the start time of the event\n",
    "    (assume times are in 24-hour format, like '18:35')\n",
    "    • A constructor that sets those variables\n",
    "    • A __str__() method that returns a string of the form Ticket(<cost>, <time>), where\n",
    "    <cost> and <time> are replaced with the values of the cost and time fields.\n",
    "    • A method called is_evening_time() that returns True or False, depending on whether the\n",
    "    time falls in the range from 18:00 to 23:59.\n",
    "    • A method called bulk_discount() that takes an integer n and returns the discount for buying n\n",
    "    tickets. There should be a 10% discount for buying 5 to 9 tickets, and a 20% discount for buying\n",
    "    10 or more. Otherwise, there is no discount. Return these percentages as integers.\n",
    "Test the class by creating a Ticket item, printing it, calling the is_evening_time() method, and\n",
    "calling the bulk_discount() method.\"\"\"\n",
    "# Ticket\n",
    "class Ticket:\n",
    "    def __init__(self, cost, time):\n",
    "        self.cost = cost\n",
    "        self.time = time\n",
    "\n",
    "    def __str__(self):\n",
    "        return 'Ticket(' + str(self.cost) + ', ' + str(self.time) + ')'\n",
    "\n",
    "    def is_evening_time(self):\n",
    "        hour = int(self.time.split(':')[0])\n",
    "        return 18 <= hour <= 23\n",
    "\n",
    "    def bulk_discount(self, n):\n",
    "        if 5 <= n < 9:\n",
    "            return 10\n",
    "        elif n >= 10:\n",
    "            return 20\n",
    "        else:\n",
    "            return 0\n",
    "\n",
    "ticket = Ticket(49.99, '19:00')\n",
    "print(ticket)\n",
    "print(ticket.is_evening_time())\n",
    "print(ticket.bulk_discount(15))\n"
   ]
  },
  {
   "cell_type": "markdown",
   "metadata": {},
   "source": [
    "# 6- QUESTION:"
   ]
  },
  {
   "cell_type": "markdown",
   "metadata": {},
   "source": [
    "Inheritance is one of the most important aspects of Object Oriented Programming (OOP). The key to understanding Inheritance is that it provides code re-usability. Instead of writing the same code, again and again, we can simply inherit the properties of one class into the other. This, as you can imagine, saves a ton of time. "
   ]
  },
  {
   "cell_type": "code",
   "execution_count": 9,
   "metadata": {},
   "outputs": [
    {
     "name": "stdout",
     "output_type": "stream",
     "text": [
      "Ticket(49.99, 14:25, Snakes on a Plane)\n",
      "10\n",
      "False\n"
     ]
    }
   ],
   "source": [
    "\"\"\"Write a class called MovieTicket that inherits from the Ticket class of the previous problem. It\n",
    "should have the following (in addition to all that it gets from the Ticket class):\n",
    "    • A string field called movie_name\n",
    "    • A constructor that sets movie_name as well as cost and time\n",
    "    • Override the __str__() method so that it returns a string of the form MovieTicket(<cost>, <time>, <name<),\n",
    "    where <cost>, <time>, and <name> are replaced with the values of the class’s fields.\n",
    "    • A method called afternoon_discount() that returns a discount of 10 (standing for 10%) if the\n",
    "    ticket time falls in the range from 12:00 to 17:59 and 0 otherwise.\n",
    "Test the class by creating a MovieTicket item, printing it, and calling the afternoon_discount()\n",
    "and is_evening_time() methods.\"\"\"\n",
    "#MovieTicket\n",
    "class MovieTicket(Ticket):\n",
    "    def __init__(self, cost, time, movie_name):\n",
    "        self.cost = cost\n",
    "        self.time = time\n",
    "        self.movie_name = movie_name\n",
    "\n",
    "    def __str__(self):\n",
    "        return 'Ticket(' + str(self.cost) + ', ' + str(self.time) + ', ' + str(self.movie_name) + ')'\n",
    "\n",
    "    def afternoon_discount(self):\n",
    "        hour = int(self.time.split(':')[0])\n",
    "        if 12 <= hour <= 17:\n",
    "            return 10\n",
    "        else:\n",
    "            return 0\n",
    "        \n",
    "m_ticket = MovieTicket(49.99, '14:25', 'Snakes on a Plane')\n",
    "print(m_ticket)\n",
    "print(m_ticket.afternoon_discount())\n",
    "print(m_ticket.is_evening_time())\n"
   ]
  },
  {
   "cell_type": "code",
   "execution_count": 10,
   "metadata": {},
   "outputs": [
    {
     "name": "stdout",
     "output_type": "stream",
     "text": [
      "Ticket(49.99, 14:25, Snakes on a Plane)\n",
      "10\n",
      "False\n"
     ]
    }
   ],
   "source": [
    "#class name. init method with self.\n",
    "class MovieTicket(Ticket):\n",
    "    def __init__(self, cost, time, movie_name):\n",
    "        Ticket.__init__(self,cost,time)\n",
    "        self.movie_name = movie_name\n",
    "\n",
    "    def __str__(self):\n",
    "        return 'Ticket(' + str(self.cost) + ', ' + str(self.time) + ', ' + str(self.movie_name) + ')'\n",
    "\n",
    "    def afternoon_discount(self):\n",
    "        hour = int(self.time.split(':')[0])\n",
    "        if 12 <= hour <= 17:\n",
    "            return 10\n",
    "        else:\n",
    "            return 0\n",
    "        \n",
    "m_ticket = MovieTicket(49.99, '14:25', 'Snakes on a Plane')\n",
    "print(m_ticket)\n",
    "print(m_ticket.afternoon_discount())\n",
    "print(m_ticket.is_evening_time())"
   ]
  },
  {
   "cell_type": "code",
   "execution_count": 11,
   "metadata": {},
   "outputs": [
    {
     "name": "stdout",
     "output_type": "stream",
     "text": [
      "Ticket(49.99, 14:25, Snakes on a Plane)\n",
      "10\n",
      "False\n"
     ]
    }
   ],
   "source": [
    "#super method\n",
    "class MovieTicket(Ticket):\n",
    "    def __init__(self, cost, time, movie_name):\n",
    "        super().__init__(cost,time)\n",
    "        self.movie_name = movie_name\n",
    "\n",
    "    def __str__(self):\n",
    "        return 'Ticket(' + str(self.cost) + ', ' + str(self.time) + ', ' + str(self.movie_name) + ')'\n",
    "\n",
    "    def afternoon_discount(self):\n",
    "        hour = int(self.time.split(':')[0])\n",
    "        if 12 <= hour <= 17:\n",
    "            return 10\n",
    "        else:\n",
    "            return 0\n",
    "        \n",
    "m_ticket = MovieTicket(49.99, '14:25', 'Snakes on a Plane')\n",
    "print(m_ticket)\n",
    "print(m_ticket.afternoon_discount())\n",
    "print(m_ticket.is_evening_time())"
   ]
  },
  {
   "cell_type": "markdown",
   "metadata": {},
   "source": [
    "# 7- QUESTION:"
   ]
  },
  {
   "cell_type": "code",
   "execution_count": 12,
   "metadata": {},
   "outputs": [
    {
     "name": "stdout",
     "output_type": "stream",
     "text": [
      "True\n",
      "['123', '456', '789']\n"
     ]
    }
   ],
   "source": [
    "\n",
    "\"\"\"Write a class called Course that has the following:\n",
    "\n",
    "• A field name that is the name of the course, a field capacity that is the maximum number of students allowed in the\n",
    "course, and a list called student_IDs representing the students in the course by their ID numbers (stored as strings).\n",
    "• A constructor that takes the name of the course and capacity and sets those fields accordingly. The constructor should\n",
    "also initialize student_IDs list to an empty list, but it should not take a list as a parameter. It should only have the \n",
    "course name and capacity as parameters.\n",
    "• Amethod called is_full() that takes no arguments and returns True or False based on whether or not the course is full \n",
    "(i.e. if the number of students in the course is equal to or above the capacity).\n",
    "• A method called add_student() that takes a student ID number and adds the student to the course by putting their ID \n",
    "number into the list. If the student is already in the course, they must not be added to the list, and if the course is \n",
    "full, the student must not be added to the course. Test the class by creating a Course object, adding several students to \n",
    "the class, and calling the is_full() method. Print out the value of the student_IDs field to make sure everything comes \n",
    "out as expected.\"\"\"\n",
    "#Course\n",
    "class Course:\n",
    "    def __init__(self, name, capacity):\n",
    "        self.name = name\n",
    "        self.capacity = capacity\n",
    "        self.student_IDs = []\n",
    "\n",
    "    def is_full(self):\n",
    "        return len(self.student_IDs) >= self.capacity\n",
    "    \n",
    "    def add_student(self, x):\n",
    "        if not self.is_full() and x not in self.student_IDs:        \n",
    "            self.student_IDs.append(x)\n",
    "\n",
    "course = Course('CompSci', 3)\n",
    "course.add_student('123')\n",
    "course.add_student('123')\n",
    "course.add_student('456')\n",
    "course.add_student('789')\n",
    "course.add_student('9999')\n",
    "print(course.is_full())\n",
    "print(course.student_IDs)\n"
   ]
  },
  {
   "cell_type": "markdown",
   "metadata": {},
   "source": [
    "# 8- QUESTION:"
   ]
  },
  {
   "cell_type": "code",
   "execution_count": 13,
   "metadata": {},
   "outputs": [
    {
     "name": "stdout",
     "output_type": "stream",
     "text": [
      "120\n"
     ]
    }
   ],
   "source": [
    "\"\"\"Write a Python class named Rectangle constructed by a length and width and a method which will compute the area of a \n",
    "rectangle.\"\"\"\n",
    "class Rectangle():\n",
    "    def __init__(self, length, width):\n",
    "        self.length = length\n",
    "        self.width  = width\n",
    "\n",
    "    def rectangle_area(self):\n",
    "        return self.length*self.width\n",
    "\n",
    "newRectangle = Rectangle(12, 10)\n",
    "print(newRectangle.rectangle_area())\n"
   ]
  },
  {
   "cell_type": "markdown",
   "metadata": {},
   "source": [
    "Python: Area of a rectangle\n",
    "\n",
    "In Euclidean plane geometry, a rectangle is a quadrilateral with four right angles. To find the area of a rectangle, multiply the length by the width"
   ]
  },
  {
   "cell_type": "markdown",
   "metadata": {},
   "source": [
    "# 9- QUESTION:"
   ]
  },
  {
   "cell_type": "code",
   "execution_count": 16,
   "metadata": {},
   "outputs": [
    {
     "name": "stdout",
     "output_type": "stream",
     "text": [
      "MMDXLIX\n",
      "MMMM\n"
     ]
    }
   ],
   "source": [
    "\"\"\"Write a Python class to convert an integer to a roman numeral.\n",
    "val = [\n",
    "            1000, 900, 500, 400,\n",
    "            100, 90, 50, 40,\n",
    "            10, 9, 5, 4,\n",
    "            1\n",
    "            ]\n",
    "            \n",
    "            \n",
    "syb = [\n",
    "            \"M\", \"CM\", \"D\", \"CD\",\n",
    "            \"C\", \"XC\", \"L\", \"XL\",\n",
    "            \"X\", \"IX\", \"V\", \"IV\",\n",
    "            \"I\"\n",
    "            ] \"\"\"\n",
    "class NumberToRoman:\n",
    "    def roman_symbol(self, user_num):\n",
    "        val = [\n",
    "            1000, 900, 500, 400,\n",
    "            100, 90, 50, 40,\n",
    "            10, 9, 5, 4,\n",
    "            1\n",
    "            ]\n",
    "        syb = [\n",
    "            \"M\", \"CM\", \"D\", \"CD\",\n",
    "            \"C\", \"XC\", \"L\", \"XL\",\n",
    "            \"X\", \"IX\", \"V\", \"IV\",\n",
    "            \"I\"\n",
    "            ]\n",
    "        roman_num = ''\n",
    "        i = 0\n",
    "        while  user_num > 0:\n",
    "            for _ in range(user_num // val[i]):\n",
    "                roman_num += syb[i]\n",
    "                user_num -= val[i]\n",
    "            i += 1\n",
    "        return roman_num\n",
    "\n",
    "\n",
    "print(NumberToRoman().roman_symbol(2549))\n",
    "print(NumberToRoman().roman_symbol(4000))\n",
    "\n",
    "#Here we convert the manual example to function with python programming. \n",
    "#The while loop in Python is used to iterate over a block of code as long as condition is true.\n",
    "#So the first condition here is user_num variable given by user should be greater than 0 since In roman symbol 0 is not \n",
    "# defined If this condition meets, then the loop will stop. Second thing we need to iterate through val list and check \n",
    "# whether the user_num is divided by the numbers in val list. That is why we will use for loop. \n",
    "# for _ in range(user_num//val[i]) so we need to extract numbers from val using slicing method like val[i]. Thats why we \n",
    "# assign a value to i variable as 0. There shpuld be starting point.As we explain our manual example, the num will be \n",
    "# divided by largest based number in the val list to find out what  Quotient is. Right after we find out the quotient , \n",
    "# the symbol will be put into the roman_num string variable . that is why we will do roman_num+=syb[i]. In the next \n",
    "# statement, the value in val list will be reduced from num variable . since i variable should iterate through all the\n",
    "#  way end the list, i var should be increased as 0,1,2,3. Right after the each statement is executed first, and followed\n",
    "#  by second and third, the function should return the roman_num variable. Lets write it out. val[i] should be subtract \n",
    "# from the user_num to find out remainder. This steps will be repeated until the condition met here. \n",
    "\n",
    "#In general, statements are executed sequentially: The first statement in a function is executed first, followed by the \n",
    "# second, and so on. There may be a situation when you need to execute a block of code several number of times.\n",
    "\n",
    "#2549 == MMDXL \n",
    "#2549 is user_num\n",
    "\n",
    "#2549-1000 = 1549\n",
    "#1549-1000 = 549\n",
    "\n",
    "\n",
    "#2549%1000 #Qutient = 2 Remainder = 549  R : MM\n",
    "#549%500 #QUOTIENT  = 1  Remainder = 49  R ; D\n",
    "#49//40 #QUOTIENT  = 1  Remainder = 9  R ; XL\n",
    "#9//9  #QUOTIENT  = 0 \"\"\""
   ]
  },
  {
   "cell_type": "markdown",
   "metadata": {},
   "source": [
    "Initially number = 3549, Since 3549 >= 1000 ; largest base value will be 1000 initially. And Divide 3549/1000. Quotient = 3, Remainder =549. The corresponding symbol M will be repeated thrice.\n",
    "\n",
    "Now, number become 549 and 1000 > 549 >= 500, largest base value will be 500 then divide 549/500. Quotient = 1, Remainder =49. The corresponding symbol D will be repeated once.\n",
    "\n",
    "Now, number = 49 and 50 > 49 >= 40, largest base value is 40. Then divide 49/40. Quotient = 1, Remainder = 9. The corresponding symbol XL will be repeated once.\n",
    "\n",
    "Now, number = 9 and 10> 9 >= 9, largest base value is 9. Then divide 9/9. Quotient = 1, Remainder = 0. The corresponding symbol IX will be repeated once.\n",
    "\n",
    "Finally, the number becomes 0, the algorithm stops here. The output obtained MMMDXLIX."
   ]
  },
  {
   "cell_type": "markdown",
   "metadata": {},
   "source": [
    "# 10 _ QUESTION"
   ]
  },
  {
   "cell_type": "code",
   "execution_count": 17,
   "metadata": {},
   "outputs": [
    {
     "name": "stdout",
     "output_type": "stream",
     "text": [
      "Person name :  Tomas Wild\n",
      "Person age =  37\n",
      "-------------------------------\n",
      "Student name :  Albert\n",
      "Student age =  23\n",
      "Student section =  Mathematics\n"
     ]
    }
   ],
   "source": [
    "\"\"\"Create a Python class Person with attributes: name and age of type string.\n",
    "Create a display() method that displays the name and age of an object created via the Person class.\n",
    "Create a child class Student  which inherits from the Person class and which also has a section attribute.\n",
    "Create a method displayStudent() that displays the name, age and section of an object created via the Student class.\n",
    "Create a student object via an instantiation on the Student class and then test the displayStudent method.\"\"\"\n",
    "class Person:\n",
    "    # define constructor with name and age as parameters\n",
    "    def __init__(self, name, age):\n",
    "        self.name = name\n",
    "        self.age = age\n",
    "    # create display method fro Person class\n",
    "    def display(self):\n",
    "        print(\"Person name : \", self.name)\n",
    "        print(\"Person age = \", self.age)\n",
    "    \n",
    "# create child class Student of Person class\n",
    "class Student(Person):\n",
    "    # define constructor of Student class with section additional parameters \n",
    "    def __init__(self, name , age , section):\n",
    "        Person.__init__(self,name, age)\n",
    "        self.section = section\n",
    "    \n",
    "    # Create display method for Student class\n",
    "    def displayStudent(self):\n",
    "        print(\"Student name : \", self.name)\n",
    "        print(\"Student age = \", self.age)\n",
    "        print(\"Student section = \", self.section)\n",
    "    \n",
    "# Testing Person class\n",
    "P = Person(\"Tomas Wild\", 37)\n",
    "P.display()\n",
    "print(\"-------------------------------\")\n",
    "S = Student(\"Albert\", 23 , \"Mathematics\")\n",
    "S.displayStudent()"
   ]
  },
  {
   "cell_type": "markdown",
   "metadata": {},
   "source": [
    "# 11- QUESTION"
   ]
  },
  {
   "cell_type": "code",
   "execution_count": 18,
   "metadata": {},
   "outputs": [
    {
     "name": "stdout",
     "output_type": "stream",
     "text": [
      "Account Number :  2178514584\n",
      "Account Name :  Albert\n",
      "Account Balance :  2600  $\n"
     ]
    }
   ],
   "source": [
    "\"\"\"Create a Python class called BankAccount which represents a bank account, having as attributes: accountNumber (numeric type), name (name of the account owner as string type), balance.\n",
    "- Create a constructor with parameters: accountNumber, name, balance.\n",
    "- Create a Deposit() method which manages the deposit actions.\n",
    "- Create a Withdrawal() method  which manages withdrawals actions. it should show the balance after withdrawal.  If the balance is less then witdrawal amount, then the method should notice the client as 'Insufficent account. \n",
    "- Create an bankFees() method to apply the bank fees with a percentage of 5% of the balance account.\n",
    "- Create a display() method to display account details.\n",
    "- Give the complete code for the  BankAccount class.   \"\"\" \n",
    "class BankAccount:\n",
    "    # create the constuctor with parameters: accountNumber, name and balance \n",
    "    def __init__(self,accountNumber, name, balance):\n",
    "        self.accountNumber = accountNumber\n",
    "        self.name = name\n",
    "        self.balance = balance\n",
    "        \n",
    "    # create Deposit() method\n",
    "    def Deposit(self , d ):\n",
    "        self.balance = self.balance + d\n",
    "    \n",
    "    # create Withdrawal method\n",
    "    def Withdrawal(self , w):\n",
    "        if(self.balance < w):\n",
    "            print(\"impossible operation! Insufficient balance !\")\n",
    "        else:\n",
    "            self.balance = self.balance - w\n",
    "    # create bankFees() method\n",
    "    def bankFees(self):\n",
    "        self.balance = (95/100)*self.balance\n",
    "        \n",
    "    # create display() method\n",
    "    def display(self):\n",
    "        print(\"Account Number : \" , self.accountNumber)\n",
    "        print(\"Account Name : \" , self.name)\n",
    "        print(\"Account Balance : \" , self.balance , \" $\")\n",
    "        \n",
    "# Testing the code :\n",
    "newAccount = BankAccount(2178514584, \"Albert\" , 2700)\n",
    "# Creating Withdrawal Test\n",
    "newAccount.Withdrawal(300)\n",
    "# Create deposit test\n",
    "newAccount.Deposit(200)\n",
    "# Display account informations\n",
    "newAccount.display()"
   ]
  },
  {
   "cell_type": "markdown",
   "metadata": {},
   "source": [
    "# 12- QUESTION:"
   ]
  },
  {
   "cell_type": "code",
   "execution_count": 19,
   "metadata": {},
   "outputs": [
    {
     "name": "stdout",
     "output_type": "stream",
     "text": [
      "Warrior attacks!\n",
      "Paladin takes 0 damage.\n",
      "Ogre --- 40\n",
      "Warrior --- 100\n",
      "Paladin --- 80\n",
      "\n",
      "Warrior attacks!\n",
      "Paladin takes 0 damage.\n",
      "Ogre --- 40\n",
      "Warrior --- 100\n",
      "Paladin --- 80\n",
      "\n",
      "Ogre attacks!\n",
      "Warrior takes 0 damage.\n",
      "Ogre --- 40\n",
      "Warrior --- 100\n",
      "Paladin --- 80\n",
      "\n",
      "Paladin attacks!\n",
      "Ogre takes 2 damage.\n",
      "Ogre --- 38\n",
      "Warrior --- 100\n",
      "Paladin --- 80\n",
      "\n",
      "Paladin attacks!\n",
      "Warrior takes 1 damage.\n",
      "Ogre --- 38\n",
      "Warrior --- 99\n",
      "Paladin --- 80\n",
      "\n",
      "Warrior attacks!\n",
      "Ogre takes 1 damage.\n",
      "Ogre --- 37\n",
      "Warrior --- 99\n",
      "Paladin --- 80\n",
      "\n",
      "Ogre attacks!\n",
      "Warrior takes 23 damage.\n",
      "Ogre --- 37\n",
      "Warrior --- 76\n",
      "Paladin --- 80\n",
      "\n",
      "Paladin attacks!\n",
      "Ogre takes 5 damage.\n",
      "Ogre --- 32\n",
      "Warrior --- 76\n",
      "Paladin --- 80\n",
      "\n",
      "Warrior attacks!\n",
      "Paladin takes 2 damage.\n",
      "Ogre --- 32\n",
      "Warrior --- 76\n",
      "Paladin --- 78\n",
      "\n",
      "Ogre attacks!\n",
      "Warrior takes 0 damage.\n",
      "Ogre --- 32\n",
      "Warrior --- 76\n",
      "Paladin --- 78\n",
      "\n",
      "Warrior attacks!\n",
      "Ogre takes 2 damage.\n",
      "Ogre --- 30\n",
      "Warrior --- 76\n",
      "Paladin --- 78\n",
      "\n",
      "Warrior attacks!\n",
      "Paladin takes 11 damage.\n",
      "Ogre --- 30\n",
      "Warrior --- 76\n",
      "Paladin --- 67\n",
      "\n",
      "Warrior attacks!\n",
      "Paladin takes 5 damage.\n",
      "Ogre --- 30\n",
      "Warrior --- 76\n",
      "Paladin --- 62\n",
      "\n",
      "Warrior attacks!\n",
      "Paladin takes 11 damage.\n",
      "Ogre --- 30\n",
      "Warrior --- 76\n",
      "Paladin --- 51\n",
      "\n",
      "Paladin attacks!\n",
      "Warrior takes 0 damage.\n",
      "Ogre --- 30\n",
      "Warrior --- 76\n",
      "Paladin --- 51\n",
      "\n",
      "Paladin attacks!\n",
      "Ogre takes 6 damage.\n",
      "Ogre --- 24\n",
      "Warrior --- 76\n",
      "Paladin --- 51\n",
      "\n",
      "Ogre attacks!\n",
      "Paladin takes 17 damage.\n",
      "Ogre --- 24\n",
      "Warrior --- 76\n",
      "Paladin --- 34\n",
      "\n",
      "Warrior attacks!\n",
      "Ogre takes 15 damage.\n",
      "Ogre --- 9\n",
      "Warrior --- 76\n",
      "Paladin --- 34\n",
      "\n",
      "Warrior attacks!\n",
      "Ogre takes 17 damage.\n",
      "Ogre is defeated.\n",
      "Warrior --- 76\n",
      "Paladin --- 34\n",
      "\n",
      "Paladin attacks!\n",
      "Warrior takes 5 damage.\n",
      "Warrior --- 71\n",
      "Paladin --- 34\n",
      "\n",
      "Warrior attacks!\n",
      "Paladin takes 0 damage.\n",
      "Warrior --- 71\n",
      "Paladin --- 34\n",
      "\n",
      "Warrior attacks!\n",
      "Paladin takes 1 damage.\n",
      "Warrior --- 71\n",
      "Paladin --- 33\n",
      "\n",
      "Warrior attacks!\n",
      "Paladin takes 3 damage.\n",
      "Warrior --- 71\n",
      "Paladin --- 30\n",
      "\n",
      "Paladin attacks!\n",
      "Warrior takes 1 damage.\n",
      "Warrior --- 70\n",
      "Paladin --- 30\n",
      "\n",
      "Paladin attacks!\n",
      "Warrior takes 1 damage.\n",
      "Warrior --- 69\n",
      "Paladin --- 30\n",
      "\n",
      "Warrior attacks!\n",
      "Paladin takes 0 damage.\n",
      "Warrior --- 69\n",
      "Paladin --- 30\n",
      "\n",
      "Paladin attacks!\n",
      "Warrior takes 0 damage.\n",
      "Warrior --- 69\n",
      "Paladin --- 30\n",
      "\n",
      "Paladin attacks!\n",
      "Warrior takes 0 damage.\n",
      "Warrior --- 69\n",
      "Paladin --- 30\n",
      "\n",
      "Warrior attacks!\n",
      "Paladin takes 3 damage.\n",
      "Warrior --- 69\n",
      "Paladin --- 27\n",
      "\n",
      "Paladin attacks!\n",
      "Warrior takes 0 damage.\n",
      "Warrior --- 69\n",
      "Paladin --- 27\n",
      "\n",
      "Paladin attacks!\n",
      "Warrior takes 1 damage.\n",
      "Warrior --- 68\n",
      "Paladin --- 27\n",
      "\n",
      "Paladin attacks!\n",
      "Warrior takes 0 damage.\n",
      "Warrior --- 68\n",
      "Paladin --- 27\n",
      "\n",
      "Warrior attacks!\n",
      "Paladin takes 11 damage.\n",
      "Warrior --- 68\n",
      "Paladin --- 16\n",
      "\n",
      "Warrior attacks!\n",
      "Paladin takes 11 damage.\n",
      "Warrior --- 68\n",
      "Paladin --- 5\n",
      "\n",
      "Warrior attacks!\n",
      "Paladin takes 0 damage.\n",
      "Warrior --- 68\n",
      "Paladin --- 5\n",
      "\n",
      "Warrior attacks!\n",
      "Paladin takes 0 damage.\n",
      "Warrior --- 68\n",
      "Paladin --- 5\n",
      "\n",
      "Paladin attacks!\n",
      "Warrior takes 2 damage.\n",
      "Warrior --- 66\n",
      "Paladin --- 5\n",
      "\n",
      "Warrior attacks!\n",
      "Paladin takes 0 damage.\n",
      "Warrior --- 66\n",
      "Paladin --- 5\n",
      "\n",
      "Paladin attacks!\n",
      "Warrior takes 2 damage.\n",
      "Warrior --- 64\n",
      "Paladin --- 5\n",
      "\n",
      "Paladin attacks!\n",
      "Warrior takes 5 damage.\n",
      "Warrior --- 59\n",
      "Paladin --- 5\n",
      "\n",
      "Paladin attacks!\n",
      "Warrior takes 3 damage.\n",
      "Warrior --- 56\n",
      "Paladin --- 5\n",
      "\n",
      "Paladin attacks!\n",
      "Warrior takes 2 damage.\n",
      "Warrior --- 54\n",
      "Paladin --- 5\n",
      "\n",
      "Warrior attacks!\n",
      "Paladin takes 8 damage.\n",
      "Paladin is defeated.\n",
      "Warrior --- 54\n",
      "\n"
     ]
    }
   ],
   "source": [
    "\"\"\"Write a class called Avatar that represents a character in a role-playing game. The class should have\n",
    "the following:\n",
    "    • Fields called name, hit_points, attack_power, and defense_power\n",
    "    • A constructor that sets those fields\n",
    "    • Amethod called attack() that returns a random integer from 1 though the value of attack_power\n",
    "    • A method called defend() that takes an integer representing an attack amount and decreases\n",
    "    hit_points by an amount equal to the difference of the attack amount and defense_power\n",
    "    (using 0 if that comes out negative). Return the amount of damage taken.\n",
    "    • A method called is_alive() that returns True or False, depending on whether hit_points is\n",
    "    greater than 0 or not\n",
    "    \n",
    "* Then test the class by creating a program that creates containing at least three Avatar objects.\n",
    "\n",
    "* Then repeatedly have two different random avatars be chosen and have one of them attack the other. \n",
    "\n",
    "* Printout which avatars are chosen and the result of the attack. \n",
    "\n",
    "* Whenever an avatar is no longer alive, a message should be printed and that avatar should be removed from the list. \n",
    "\n",
    "* The program stops when there is only one avatar left.\n",
    "\n",
    "* To slow down the rate at which things happen, you might want to import time and use time.sleep(.5) to pause the program\n",
    " for .5 seconds after each attack.\"\"\"\n",
    "#Avatar\n",
    "from random import randint, sample\n",
    "from time import sleep\n",
    "\n",
    "class Avatar:\n",
    "    def __init__(self, name, hit_points, attack_power, defense_power):\n",
    "        self.name = name\n",
    "        self.hit_points = hit_points\n",
    "        self.attack_power = attack_power\n",
    "        self.defense_power = defense_power\n",
    "\n",
    "    def attack(self):\n",
    "        return randint(1, self.attack_power)\n",
    "\n",
    "    def defend(self, attack_amount):\n",
    "        damage = max(attack_amount - self.defense_power, 0)\n",
    "        self.hit_points -= damage\n",
    "        return damage\n",
    "\n",
    "    def is_alive(self):\n",
    "        return self.hit_points > 0\n",
    "\n",
    "L = [Avatar('Ogre', 40, 30, 3),\n",
    "     Avatar('Warrior', 100, 20, 5),\n",
    "     Avatar('Paladin', 80, 10, 8)]\n",
    "\n",
    "while len(L) > 1:\n",
    "    attacker, defender = sample(L, 2)\n",
    "    attack_amount = attacker.attack()\n",
    "    damage = defender.defend(attack_amount)\n",
    "    print(attacker.name, 'attacks!')\n",
    "    print(defender.name, 'takes', damage, 'damage.')\n",
    "    if not defender.is_alive():\n",
    "        print(defender.name, 'is defeated.')\n",
    "        L.remove(defender)\n",
    "    for x in L:\n",
    "        print(x.name, '---', x.hit_points)\n",
    "    print()\n",
    "    sleep(.5)\n"
   ]
  },
  {
   "cell_type": "code",
   "execution_count": 20,
   "metadata": {},
   "outputs": [
    {
     "data": {
      "text/plain": [
       "[2, 67]"
      ]
     },
     "execution_count": 20,
     "metadata": {},
     "output_type": "execute_result"
    }
   ],
   "source": [
    "from random import randint, sample\n",
    "from time import sleep\n",
    "\n",
    "l = [1,2,3,4,56,67]\n",
    "sample(l,2)"
   ]
  },
  {
   "cell_type": "code",
   "execution_count": 21,
   "metadata": {},
   "outputs": [
    {
     "data": {
      "text/plain": [
       "8"
      ]
     },
     "execution_count": 21,
     "metadata": {},
     "output_type": "execute_result"
    }
   ],
   "source": [
    "L = [Avatar('Ogre', 40, 30, 3),\n",
    "     Avatar('Warrior', 100, 20, 5),\n",
    "     Avatar('Paladin', 80, 10, 8)]\n",
    "\n",
    "attacker, defender = sample(L, 2)\n",
    "attack_amount = attacker.attack()\n",
    "damage = defender.defend(attack_amount)\n",
    "damage"
   ]
  }
 ],
 "metadata": {
  "kernelspec": {
   "display_name": "Python 3",
   "language": "python",
   "name": "python3"
  },
  "language_info": {
   "codemirror_mode": {
    "name": "ipython",
    "version": 3
   },
   "file_extension": ".py",
   "mimetype": "text/x-python",
   "name": "python",
   "nbconvert_exporter": "python",
   "pygments_lexer": "ipython3",
   "version": "3.9.10"
  }
 },
 "nbformat": 4,
 "nbformat_minor": 2
}
