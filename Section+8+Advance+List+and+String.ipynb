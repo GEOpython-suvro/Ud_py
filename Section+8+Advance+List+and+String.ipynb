{
 "cells": [
  {
   "cell_type": "markdown",
   "metadata": {},
   "source": [
    "# 1- QUESTION:\n",
    "Write a program that creates a random string of length 100, where each entry has an equal chance of\n",
    "being either an H or or T. The idea is that the string represents the result of 100 coin flips. Use the choice() function to do this."
   ]
  },
  {
   "cell_type": "raw",
   "metadata": {},
   "source": [
    "choice() is an inbuilt function in Python programming language that returns a random item from a list, tuple, or string.\n",
    "list1 = [1, 2, 3, 4, 5, 6]  \n",
    "print(random.choice(list1)) "
   ]
  },
  {
   "cell_type": "code",
   "execution_count": null,
   "metadata": {},
   "outputs": [],
   "source": [
    "#2 50 coin flips.\n",
    "from random import choice\n",
    "\n",
    "s = ''\n",
    "for i in range(100):\n",
    "    s += choice('HT')\n",
    "print(s)"
   ]
  },
  {
   "cell_type": "code",
   "execution_count": null,
   "metadata": {},
   "outputs": [],
   "source": [
    "from random import choice\n",
    "s=[]\n",
    "for i in range(100):\n",
    "    s.append(choice('HT'))\n",
    "print(s)"
   ]
  },
  {
   "cell_type": "markdown",
   "metadata": {},
   "source": [
    "# 2- QUESTION:\n",
    "Write a program that creates a string of consisting of 1000 random As, Bs, Cs, and Ds, where A has a\n",
    "60% chance of being chosen, B has a 30% chance, C has a 8% chance, and D had a 2% chance. [Hint:\n",
    "Create a list or string that has 60 As, 30 Bs, 8 Cs, and two Ds, and then repeatedly use the choice\n",
    "function.]"
   ]
  },
  {
   "cell_type": "code",
   "execution_count": null,
   "metadata": {},
   "outputs": [],
   "source": [
    "\n",
    "# 1000 random As, Bs, Cs, and Ds, where 60% chance of A, 30% chance of B, 8% chance of C, 2% chance of D.\n",
    "from random import choice\n",
    "\n",
    "letters = 'A'*60 + 'B'*30 + 'C'*8 + 'D'*2\n",
    "s = ''\n",
    "for i in range(1000):\n",
    "    s += choice(letters)\n",
    "print(s)\n"
   ]
  },
  {
   "cell_type": "code",
   "execution_count": null,
   "metadata": {},
   "outputs": [],
   "source": [
    "from random import choice\n",
    "\n",
    "letters = 'A'*60 + 'B'*30 + 'C'*8 + 'D'*2\n",
    "s = []\n",
    "for i in range(1000):\n",
    "    s.append(choice(letters))\n",
    "print(\"\".join(s))"
   ]
  },
  {
   "cell_type": "markdown",
   "metadata": {},
   "source": [
    "# 3- QUESTION : \n",
    "Write a program and use 'python' word as your variable.   Then choose exactly\n",
    "three indices in that word to replace with asterisks and print out the result. For instance, if the word is python, then a possible output could be p*t**n."
   ]
  },
  {
   "cell_type": "code",
   "execution_count": 2,
   "metadata": {},
   "outputs": [
    {
     "name": "stdout",
     "output_type": "stream",
     "text": [
      "*y**on\n"
     ]
    },
    {
     "data": {
      "text/plain": [
       "[3, 2, 0]"
      ]
     },
     "execution_count": 2,
     "metadata": {},
     "output_type": "execute_result"
    }
   ],
   "source": [
    "# Replace 3 indices in a word with asterisks.\n",
    "from random import sample\n",
    "\n",
    "s = 'python'\n",
    "\n",
    "Indices = []\n",
    "for i in range(len(s)):\n",
    "    Indices.append(i)\n",
    "Spots = sample(Indices, 3)\n",
    "\n",
    "t = ''\n",
    "for i in range(len(s)):\n",
    "    if i in Spots:\n",
    "        t += '*'\n",
    "    else:\n",
    "        t += s[i]\n",
    "print(t)\n",
    "Spots"
   ]
  },
  {
   "cell_type": "raw",
   "metadata": {},
   "source": [
    "Notes: Return a k length list of unique elements chosen from the population sequence. Used for random sampling without replacement.\n",
    "\n",
    "Basically, it picks k unique random elements, a sample, from a sequence:\n",
    "\n",
    "import random\n",
    "c = list(range(0, 15))\n",
    "c\n",
    "[0, 1, 2, 3, 4, 5, 6, 7, 8, 9, 10, 11, 12, 13, 14]\n",
    "random.sample(c, 5)\n",
    "[9, 2, 3, 14, 11]"
   ]
  },
  {
   "cell_type": "markdown",
   "metadata": {},
   "source": [
    "# 4- QUESTION:\n",
    "\n",
    "Write Python list comprehensions to solve each of the following.\n",
    "\n",
    "\n",
    "(a) Write a program that creates and prints a list of the square roots of the integers from 1 to 100,\n",
    "each rounded to two decimal places.\n",
    "\n",
    "(b) Write a program that asks the user to enter a list of integers. Then create and print a list that\n",
    "consists of each entry of the user’s list with 1 added to it. For instance, if the entry is is [3,4,5],\n",
    "the new list should be [4,5,6].\n",
    "\n",
    "(c) Write a program that asks the user to enter a list of integers. Then create and print a list containing\n",
    "only the even integers from the user’s list.\n",
    "\n",
    "(d) Write a program that asks the user to enter a list of integers. Then create and print a new list that\n",
    "consists of all entries of the user’s list, except with negatives replaced by 0. For instance, if the\n",
    "entry is [2,-4,5,-6,-7], the new list should be [2,0,5, 0, 0]. [Hint: use max(x,0).]\n",
    "\n",
    "(e) Write a program that asks the user to enter a string. Then create and print a list that contains\n",
    "only the letters from the user’s string (and no other character besides letters). [Hint: use the\n",
    "isalpha() method.]\n",
    "\n",
    "(f) Write a program that use  a list of lists below. Then create and print a list that contains\n",
    "the last elements of each of the lists in the master list. For instance, if the user enters\n",
    "[[1,2,3],[4,8],[15,13]], the created list would be [3,8,13].].\n",
    "\n",
    "(g) Write a program that use 'helloworld' as your string.  Then create and print\n",
    "a list of 26 items, consisting of the frequencies of each letter in alphabetical order. For the string\n",
    "helloworld, the list would be [0,0,0,1,1,0,0,1,0,0,0,3,0,0,2,0,0,1,0,0,0,0,1,0,0,0].\n",
    "[Hint: use the count() method.]\n",
    "\n",
    "(h) Write a program and use string1 and string2 as given. Then create and print a\n",
    "list of all the indices in which the strings differ. For instance, given python? and Python!, the\n",
    "list would be [0,6].\n",
    "\n",
    "string1 = 'python?'\n",
    "string2 = 'Python!'\n"
   ]
  },
  {
   "cell_type": "raw",
   "metadata": {},
   "source": [
    "Example #2: Suppose we want to create an output list which contains squares of all the numbers from 1 to 9. Let’s see how to do this using for loops and list comprehension.\n",
    "output_list = [] \n",
    "for var in range(1, 10): \n",
    "    output_list.append(var ** 2) \n",
    "    \n",
    "list_using_comp = [var**2 for var in range(1, 10)] \n",
    "  \n",
    "print(\"Output List using list comprehension:\",  \n",
    "                              list_using_comp) "
   ]
  },
  {
   "cell_type": "code",
   "execution_count": null,
   "metadata": {},
   "outputs": [],
   "source": [
    "#List comprehensions.\n",
    "# Rather than creating an empty list and adding each element to the end, \n",
    "# you simply define the list and its contents at the same time by following this format:\n",
    "# List comprehensions provide us with a simple way to create a list based on some iterable. \n",
    "# During the creation, elements from the iterable can be conditionally included in \n",
    "# the new list and transformed as needed.\n",
    "\n",
    "#(a) List of square roots\n",
    "from math import sqrt\n",
    "L = [round(sqrt(i), 2) for i in range(1,100)]\n",
    "print('(a):', L)\n",
    "\n",
    "#(b) Add 1 to everything in a list\n",
    "L = eval(input('Enter a list of integers: '))\n",
    "M = [x+1 for x in L]\n",
    "print('(b):', M)\n",
    "\n",
    "#(c) Only the evens from a list\n",
    "L = eval(input('Enter a list of integers: '))\n",
    "M = [x for x in L if x%2==0]\n",
    "print('(c):', M)\n",
    "\n",
    "#(d) All the entries from a list with negatives replaced by 0\n",
    "L = [2,-4,5,-6,-7]\n",
    "M = [max(x, 0) for x in L]\n",
    "print('(d):', M)\n",
    "\n",
    "#(e) All the letters (but not other characters) of a string\n",
    "s = input('Enter a string:')\n",
    "L = [c for c in s if c.isalpha()]\n",
    "print('(e):', L)\n",
    "\n",
    "#(f) Given a list of lists, create a list of the last items in each list\n",
    "L = [[1,2,3],[4,8],[15,13]]\n",
    "M = [S[-1] for S in L]\n",
    "print('(f):', M)\n",
    "\n",
    "#(g) Create list of frequencies of letters in a string\n",
    "s = 'HelloWorld'\n",
    "L = [s.count(c) for c in 'abcdefghijklmnopqrstuvwxyz']\n",
    "print('(g):', L)\n",
    "\n",
    "#(h) List of indices in which two strings differ\n",
    "s = 'python?'\n",
    "t = 'Python!'\n",
    "L = [i for i in range(len(s)) if s[i] != t[i]]\n",
    "print('(h):', L)qs\n"
   ]
  },
  {
   "cell_type": "markdown",
   "metadata": {},
   "source": [
    "# 5- QUESTION:\n",
    "Write a program that creates and prints a 10 X 10 list that consists of random zeroes and ones.\n",
    "Use two method two find out the output with list comprehensions and for loop with regular method\n"
   ]
  },
  {
   "cell_type": "code",
   "execution_count": null,
   "metadata": {},
   "outputs": [],
   "source": [
    "arr = []\n",
    "for i in range(10):\n",
    "    arr.append([])\n",
    "    for j in range(10):\n",
    "        arr[i].append(randint(0,1))\n",
    "print(arr)"
   ]
  },
  {
   "cell_type": "code",
   "execution_count": null,
   "metadata": {},
   "outputs": [],
   "source": [
    "L = [[randint(0,1) for j in range(10)] for i in range(10)]\n",
    "L"
   ]
  },
  {
   "cell_type": "markdown",
   "metadata": {},
   "source": [
    "# 6- QUESTION : \n",
    "The following is useful as part of a program to play Battleship. Write a program that creates and prints a 10 X 10 list that consists of random zeroes and ones. Then ask the user to enter a row and column number. If the entry in the list at that row and column is a one, the program should print Hit and otherwise it should print Miss."
   ]
  },
  {
   "cell_type": "code",
   "execution_count": 5,
   "metadata": {},
   "outputs": [
    {
     "name": "stdout",
     "output_type": "stream",
     "text": [
      "1 1 1 1 0 0 1 0 1 0 \n",
      "1 0 1 1 0 1 0 0 0 0 \n",
      "1 0 0 1 1 1 1 1 0 1 \n",
      "0 0 1 0 1 0 1 0 1 1 \n",
      "1 0 0 0 1 1 1 1 0 0 \n",
      "0 1 1 0 1 0 0 1 0 0 \n",
      "0 0 1 1 1 1 1 1 0 0 \n",
      "1 1 1 1 1 0 1 0 0 0 \n",
      "1 0 0 0 1 1 0 1 0 1 \n",
      "1 0 0 0 1 1 1 1 0 1 \n",
      "Enter row: 2\n",
      "Enter column: 4\n",
      "Hit\n"
     ]
    }
   ],
   "source": [
    "# Battleship tell if a cell is a hit or miss on a 10 x 10 list.\n",
    "# create prints 10x10 list that has zero and one\n",
    "# ask use row and column is one. program should print Hit, else Miss\n",
    "from random import randint\n",
    "\n",
    "L = [[randint(0,1) for j in range(10)] for i in range(10)]\n",
    "for i in range(len(L)):\n",
    "    for j in range(len(L[i])):\n",
    "        print(L[i][j], end=' ')\n",
    "    print()\n",
    "\n",
    "r = eval(input('Enter row: '))\n",
    "c = eval(input('Enter column: '))\n",
    "\n",
    "if L[r][c] == 1:\n",
    "    print('Hit')\n",
    "else:\n",
    "    print('Miss!')"
   ]
  },
  {
   "cell_type": "markdown",
   "metadata": {},
   "source": [
    "# 7- QUESTION:\n",
    "Write a program that first creates and prints a 6 X 6 list of random zeroes, ones, and twos. Then ask\n",
    "the user to enter a starting row, ending row, starting column, and ending column, and print out the\n",
    "sum of all the entries in the list within the range specified by the user."
   ]
  },
  {
   "cell_type": "code",
   "execution_count": 6,
   "metadata": {},
   "outputs": [
    {
     "name": "stdout",
     "output_type": "stream",
     "text": [
      "1 2 1 1 0 2 \n",
      "0 1 2 1 1 2 \n",
      "0 1 1 1 2 2 \n",
      "2 1 2 0 0 1 \n",
      "0 0 0 2 2 1 \n",
      "0 1 2 1 2 2 \n",
      "Enter starting row: 2\n",
      "Enter ending row: 3\n",
      "Enter starting column: 4\n",
      "Enter ending column: 5\n",
      "5\n"
     ]
    }
   ],
   "source": [
    "# Create 6 x 6 list and add up entries in a range specified by user.\n",
    "from random import randint\n",
    "\n",
    "L = [[randint(0,2) for j in range(6)] for i in range(6)]\n",
    "for i in range(len(L)):\n",
    "    for j in range(len(L[i])):\n",
    "        print(L[i][j], end=' ')\n",
    "    print()\n",
    "    \n",
    "r1 = eval(input('Enter starting row: '))\n",
    "r2 = eval(input('Enter ending row: '))\n",
    "c1 = eval(input('Enter starting column: '))\n",
    "c2 = eval(input('Enter ending column: '))\n",
    "\n",
    "total = 0\n",
    "for i in range(r1, r2+1):\n",
    "    for j in range(c1, c2+1):\n",
    "        total += L[i][j]\n",
    "print(total)"
   ]
  },
  {
   "cell_type": "markdown",
   "metadata": {},
   "source": [
    "# 8- QUESTION:\n",
    "Write a program that first creates and prints a 6 X 6 list of integers from 0 to 5. Then write some code\n",
    "that determines if there are two consecutive zeros in the list, either horizontally or vertically. Try to\n",
    "do this with loops rather than with dozens of if statements."
   ]
  },
  {
   "cell_type": "raw",
   "metadata": {},
   "source": [
    "\n",
    "Flag variable is used as a signal in programming to let the program know that a certain condition has met. It usually acts as a boolean variable indicating a condition to be either true or false.\n",
    "in computer science, a flag is a value that acts as a signal for a function or process. The value of the flag is used to determine the next step of a program. Flags are often binary flags, which contain a boolean value (true or false). "
   ]
  },
  {
   "cell_type": "code",
   "execution_count": null,
   "metadata": {},
   "outputs": [],
   "source": [
    "# Determine if there are consecutive horizontal or vertical zeroes in a random 6x6 list of integers from 0 to 5.\n",
    "from random import randint\n",
    "\n",
    "L = [[randint(0,5) for j in range(6)] for i in range(6)]\n",
    "\n",
    "for i in range(len(L)):\n",
    "    for j in range(len(L[i])):\n",
    "        print(L[i][j], end=' ')\n",
    "    print()\n",
    "\n",
    "flag = False\n",
    "# check horizontal\n",
    "for i in range(len(L)):\n",
    "    for j in range(len(L[i])):\n",
    "        if L[i][j] == L[i-1][j] == 0:\n",
    "            flag = True\n",
    "# check vertical\n",
    "for i in range(len(L)):\n",
    "    for j in range(len(L[i])):\n",
    "        if L[i][j-1] == L[i][j] == 0:\n",
    "            flag = True\n",
    "\n",
    "if flag:\n",
    "    print('There are consecutive zeroes.')\n",
    "else:\n",
    "    print('No consecutive zeroes.')\n"
   ]
  },
  {
   "cell_type": "markdown",
   "metadata": {},
   "source": [
    "# 9- QUESTION:\n",
    "\n",
    "\n",
    "Ask the user for an integer n. Then create and print a n x n list that consists of spaces everywhere\n",
    "except that the first row, last row, first column, last column, main diagonal, and off diagonal should\n",
    "all be # symbols. Below is an example of what the list should look like with n = 10. Remember that\n",
    "you are creating an list, not just printing characters.\n",
    "\n"
   ]
  },
  {
   "cell_type": "raw",
   "metadata": {},
   "source": [
    "\n",
    "# # # # # # # # # # \n",
    "# #             # # \n",
    "#   #         #   # \n",
    "#     #     #     # \n",
    "#       # #       # \n",
    "#       # #       # \n",
    "#     #     #     # \n",
    "#   #         #   # \n",
    "# #             # # \n",
    "# # # # # # # # # # "
   ]
  },
  {
   "cell_type": "code",
   "execution_count": null,
   "metadata": {},
   "outputs": [],
   "source": [
    "# Create an n x n shape of an X in a box.\n",
    "n = eval(input('Enter the size: '))\n",
    "L = [[' ']*n for i in range(n)]\n",
    "for i in range(n):\n",
    "    L[0][i] = L[-1][i] = L[i][0] = L[i][-1] = L[i][i] = L[i][n-i-1] = '#'\n",
    "# for i in range(n):#0,1,2,3,4\n",
    "#     L[0][i] = L[-1][i] = L[i][0] = L[i][-1] = L[i][i] = L[i][n-i-1] = '#'\n",
    "#     L[O][0] =L[-1][0] = L[0][0] = L[i][-1]=L[0][0]=L[0][5-0-1]=#\n",
    "#     L[0][1] = L[-1][1] =L[1][0]=L[1][-1]=L[1][1]=L[0][5-1-1]=#\n",
    "#     L[0][2] = L[-1][2]=L[2][0]=L[2][-1]=L[2][2]=L[2][5-2-1]=#\n",
    "for i in range(len(L)):\n",
    "    for j in range(len(L[i])):\n",
    "        print(L[i][j], end=' ')\n",
    "    print()"
   ]
  },
  {
   "cell_type": "markdown",
   "metadata": {},
   "source": [
    "# 10- QUESTION:\n",
    "Write a program which takes 2 digits, X,Y as input and generates a 2-dimensional array. The element value in the i-th row and j-th column of the array should be i * j.\n",
    "\n",
    "Note: i=0,1.., X-1; j=0,1,¡Y-1. Suppose the following inputs are given to the program: 3,5\n",
    "\n",
    "Then, the output of the program should be:\n",
    "\n",
    "[[0, 0, 0, 0, 0], [0, 1, 2, 3, 4], [0, 2, 4, 6, 8]]"
   ]
  },
  {
   "cell_type": "code",
   "execution_count": 16,
   "metadata": {},
   "outputs": [
    {
     "name": "stdout",
     "output_type": "stream",
     "text": [
      "4,5\n",
      "\n",
      "[[0, 0, 0, 0, 0], [0, 1, 2, 3, 4], [0, 2, 4, 6, 8], [0, 3, 6, 9, 12]]\n"
     ]
    }
   ],
   "source": [
    "input_str = input()\n",
    "dimensions = [int(x) for x in input_str.split(',')]\n",
    "rowNum = dimensions[0]\n",
    "colNum = dimensions[1]\n",
    "multilist = [[0 for col in range(colNum)] for row in range(rowNum)]\n",
    "\n",
    "for row in range(rowNum):\n",
    "    for col in range(colNum):\n",
    "        multilist[row][col] = row * col\n",
    "\n",
    "\n",
    "print(multilist)"
   ]
  },
  {
   "cell_type": "code",
   "execution_count": null,
   "metadata": {},
   "outputs": [],
   "source": [
    "x,y = map(int,input().split(','))\n",
    "lst = [[i*j for j in range(y)] for i in range(x)]  \n",
    "print(lst)"
   ]
  },
  {
   "cell_type": "markdown",
   "metadata": {},
   "source": [
    "map() function returns a map object(which is an iterator) of the results after applying the given function to each item of a given iterable (list, tuple etc.)\n",
    "\n",
    "\n",
    "The returned value from map() (map object) then can be passed to functions like list() (to create a list), set() (to create a set) and so on.\n",
    "\n",
    "list(map(int,[1,2,3,4]))"
   ]
  }
 ],
 "metadata": {
  "kernelspec": {
   "display_name": "Python 3",
   "language": "python",
   "name": "python3"
  },
  "language_info": {
   "codemirror_mode": {
    "name": "ipython",
    "version": 3
   },
   "file_extension": ".py",
   "mimetype": "text/x-python",
   "name": "python",
   "nbconvert_exporter": "python",
   "pygments_lexer": "ipython3",
   "version": "3.8.8"
  }
 },
 "nbformat": 4,
 "nbformat_minor": 2
}
