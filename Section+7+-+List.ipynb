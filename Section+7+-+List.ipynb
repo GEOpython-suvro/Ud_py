{
 "cells": [
  {
   "cell_type": "markdown",
   "metadata": {},
   "source": [
    "# 1- QUESTION: \n",
    "Write a program that creates and prints a list of the square roots of the integers from 1 to 100, each rounded to 4 decimal places."
   ]
  },
  {
   "cell_type": "code",
   "execution_count": null,
   "metadata": {},
   "outputs": [],
   "source": [
    "#Create list of square roots of the integers from 1 to 100, rounded to 4 decimal places.\n",
    "from math import sqrt\n",
    "\n",
    "L = []\n",
    "for i in range(1, 101):\n",
    "    L.append(round(sqrt(i), 4))\n",
    "print(L)"
   ]
  },
  {
   "cell_type": "markdown",
   "metadata": {},
   "source": [
    "# 2- QUESTION: \n",
    "Use the list below create a program.  Create a new list that\n",
    "contains just the entries from the random list that are greater than 50.\n",
    "L= [1,2,3,4,76,46,45,67,48,90,23,34,56,34]"
   ]
  },
  {
   "cell_type": "code",
   "execution_count": null,
   "metadata": {},
   "outputs": [],
   "source": [
    "#Given a list, create a new list containing only the entries greater than 50.\n",
    "L = [1,2,3,4,76,46,45,67,48,90,23,34,56,34]\n",
    "M = []\n",
    "for x in L:\n",
    "    if x > 50:\n",
    "        M.append(x)\n",
    "print(M)\n"
   ]
  },
  {
   "cell_type": "markdown",
   "metadata": {},
   "source": [
    "# 3- QUESTION:\n",
    "Use list of numbers below. Then print out the smallest thing in the\n",
    "list and the first index at which it appears in the list.\n",
    "L= [34,34,23,26,35,37,89,56,48,30,48,19,97,40]"
   ]
  },
  {
   "cell_type": "code",
   "execution_count": 2,
   "metadata": {},
   "outputs": [
    {
     "name": "stdout",
     "output_type": "stream",
     "text": [
      "Smallest item is 19 first occuring at index 11\n"
     ]
    }
   ],
   "source": [
    "# Given a list, find the smallest thing and the first index at which it occurs.\n",
    "\n",
    "    \n",
    "L = [34,34,23,26,35,37,89,56,48,30,48,19,97,40]\n",
    "best = 0\n",
    "for i in range(len(L)):\n",
    "    if L[i] < L[best]:\n",
    "        best = i\n",
    "print('Smallest item is', L[best], 'first occuring at index', best)"
   ]
  },
  {
   "cell_type": "code",
   "execution_count": 4,
   "metadata": {},
   "outputs": [
    {
     "name": "stdout",
     "output_type": "stream",
     "text": [
      "19\n"
     ]
    }
   ],
   "source": [
    "L = [34,34,23,26,35,37,89,56,48,30,48,19,97,40]\n",
    "best = 0\n",
    "for i in L:\n",
    "    if i<L[best]:\n",
    "        L[best]=i\n",
    "print(L[best])"
   ]
  },
  {
   "cell_type": "code",
   "execution_count": 5,
   "metadata": {},
   "outputs": [
    {
     "name": "stdout",
     "output_type": "stream",
     "text": [
      "1\n"
     ]
    }
   ],
   "source": [
    "L = [1,2,3]\n",
    "best = 0\n",
    "for i in L:\n",
    "    if i<L[best]:\n",
    "        L[best]=i\n",
    "print(L[best])"
   ]
  },
  {
   "cell_type": "markdown",
   "metadata": {},
   "source": [
    "# 4- QUESTION:\n",
    "Write a program that uses a list of numbers below with some of the values greater than 10.\n",
    "Print out the smallest item in the list that is larger than 10.\n",
    "L = [1,5,23,26,24,37,89,56,48,30,48,19,97,9]"
   ]
  },
  {
   "cell_type": "code",
   "execution_count": 10,
   "metadata": {},
   "outputs": [
    {
     "name": "stdout",
     "output_type": "stream",
     "text": [
      "Smallest thing greater than 10: 19\n"
     ]
    }
   ],
   "source": [
    "# Given a list with some items greater than 10, print out smallest thing larger than 10.\n",
    "L = [1,5,23,26,24,37,89,56,48,30,48,19,97,9]\n",
    "\n",
    "mx = max(L)\n",
    "for x in L:\n",
    "    if 10 < x < mx:\n",
    "        mx=x\n",
    "print('Smallest thing greater than 10:', smallest)\n"
   ]
  },
  {
   "cell_type": "markdown",
   "metadata": {},
   "source": [
    "# 5- QUESTION:\n",
    "Write a program which will find all such numbers which are divisible by 7 but are not a multiple of 5, between 2000 and 3200 (both included).The numbers obtained should be printed in a comma-separated sequence on a single line."
   ]
  },
  {
   "cell_type": "code",
   "execution_count": 12,
   "metadata": {},
   "outputs": [
    {
     "name": "stdout",
     "output_type": "stream",
     "text": [
      "2002,2009,2016,2023,2037,2044,2051,2058,2072,2079,2086,2093,2107,2114,2121,2128,2142,2149,2156,2163,2177,2184,2191,2198,2212,2219,2226,2233,2247,2254,2261,2268,2282,2289,2296,2303,2317,2324,2331,2338,2352,2359,2366,2373,2387,2394,2401,2408,2422,2429,2436,2443,2457,2464,2471,2478,2492,2499,2506,2513,2527,2534,2541,2548,2562,2569,2576,2583,2597,2604,2611,2618,2632,2639,2646,2653,2667,2674,2681,2688,2702,2709,2716,2723,2737,2744,2751,2758,2772,2779,2786,2793,2807,2814,2821,2828,2842,2849,2856,2863,2877,2884,2891,2898,2912,2919,2926,2933,2947,2954,2961,2968,2982,2989,2996,3003,3017,3024,3031,3038,3052,3059,3066,3073,3087,3094,3101,3108,3122,3129,3136,3143,3157,3164,3171,3178,3192,3199\n"
     ]
    }
   ],
   "source": [
    "l=[]\n",
    "for i in range(2000, 3201):\n",
    "    if (i%7==0) and (i%5!=0):\n",
    "        l.append(str(i))\n",
    "\n",
    "print (','.join(l))"
   ]
  },
  {
   "cell_type": "raw",
   "metadata": {},
   "source": [
    "\n",
    "The join() method provides a flexible way to concatenate string. It concatenates each element of an iterable (such as list, string and tuple) to the string and returns the concatenated string.\n",
    "string.join(iterable)\n",
    "\n",
    "numList = ['1', '2', '3', '4']\n",
    "seperator = ', '\n",
    "print(seperator.join(numList))"
   ]
  },
  {
   "cell_type": "markdown",
   "metadata": {},
   "source": [
    "# 6- QUESTION:\n",
    "Write a program that uses two lists of the same length. Then create a new list where the entry at each index i in the new list is the larger of the entries at index i of the user’s two lists. For instance, if the two lists are [1,25,3] and [18,2,30], then new list would be [18,25,30].\n",
    "L=[1,25,3]\n",
    "M=[18,2,30]"
   ]
  },
  {
   "cell_type": "code",
   "execution_count": null,
   "metadata": {},
   "outputs": [],
   "source": [
    "# Given two lists, create a list by going element-by-element and taking the larger one from the two lists.\n",
    "L=[1,25,3]\n",
    "M=[18,2,30]\n",
    "N = []\n",
    "for i in range(len(L)):\n",
    "    if L[i] > M[i]:\n",
    "        N.append(L[i])\n",
    "    else:\n",
    "        N.append(M[i])\n",
    "print(N)"
   ]
  },
  {
   "cell_type": "markdown",
   "metadata": {},
   "source": [
    "# 7- QUESTION: \n",
    "Write a program that rotates all the elements in a list one element to the left, with the first element rotating to the end. For instance, if the list is [1,2,3,4], it would rotate into [2,3,4,1].\n",
    "L=[1,2,3,4]"
   ]
  },
  {
   "cell_type": "code",
   "execution_count": 16,
   "metadata": {},
   "outputs": [
    {
     "name": "stdout",
     "output_type": "stream",
     "text": [
      "[2, 3, 4, 1]\n"
     ]
    }
   ],
   "source": [
    "#Rotate items in a list left.\n",
    "L = [1,2,3,4]\n",
    "save = L[0]\n",
    "for i in range(len(L)-1):\n",
    "    L[i] = L[i+1]\n",
    "L[-1] = save\n",
    "print(L)"
   ]
  },
  {
   "cell_type": "markdown",
   "metadata": {},
   "source": [
    "# 8- QUESTION:\n",
    "Write a program that for the 10 students in a class. The program should then\n",
    "generate and print a list of “grades” for those students that are all random numbers from 90 to 100,\n",
    "except that a random one of the items in the list should be 0."
   ]
  },
  {
   "cell_type": "code",
   "execution_count": 19,
   "metadata": {},
   "outputs": [
    {
     "name": "stdout",
     "output_type": "stream",
     "text": [
      "[0, 99, 97, 93, 93, 94, 92, 91, 99, 90]\n"
     ]
    }
   ],
   "source": [
    "# Random grader with all grades from 90 to 100 except one random 0.\n",
    "from random import randint\n",
    "\n",
    "n = 10\n",
    "L = []\n",
    "for i in range(n):\n",
    "    L.append(randint(90, 100))\n",
    "lucky_index = randint(0,n)\n",
    "L[lucky_index] = 0\n",
    "print(L)"
   ]
  },
  {
   "cell_type": "markdown",
   "metadata": {},
   "source": [
    "# 9- QUESTION:\n",
    "Write a program that remove the indices from the list. The list of numbers are as follow.  Then create a new list that consists of all the strings from the user’s list except for those at the indices from the list of indices. \n",
    "For instance, if the list of strings is ['a','bc','d','e','fg'] and the list of indices is\n",
    "[2,4], then the new list would be ['a','bc','e'].\n",
    "L= ['a','bc','d','e','fg']\n",
    "I = [4,2]"
   ]
  },
  {
   "cell_type": "code",
   "execution_count": null,
   "metadata": {},
   "outputs": [],
   "source": [
    "#Given list of strings and list of indices create a new list of all the strings from the list that are not at those indices.\n",
    "L= ['a','bc','d','e','fg']\n",
    "I = [4,2]\n",
    "M = []\n",
    "for i in range(len(L)):\n",
    "    if i not in I:\n",
    "        M.append(L[i])\n",
    "print(M)"
   ]
  }
 ],
 "metadata": {
  "kernelspec": {
   "display_name": "Python 3",
   "language": "python",
   "name": "python3"
  },
  "language_info": {
   "codemirror_mode": {
    "name": "ipython",
    "version": 3
   },
   "file_extension": ".py",
   "mimetype": "text/x-python",
   "name": "python",
   "nbconvert_exporter": "python",
   "pygments_lexer": "ipython3",
   "version": "3.8.8"
  }
 },
 "nbformat": 4,
 "nbformat_minor": 2
}
